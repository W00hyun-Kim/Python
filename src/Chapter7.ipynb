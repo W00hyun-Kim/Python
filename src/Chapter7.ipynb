{
 "cells": [
  {
   "cell_type": "code",
   "execution_count": 1,
   "id": "28cda1ec",
   "metadata": {},
   "outputs": [
    {
     "name": "stdout",
     "output_type": "stream",
     "text": [
      "별10개 찍기\n",
      "**********\n",
      "\n",
      "별3개 찍기\n",
      "***\n",
      "\n",
      "별5개 찍기\n",
      "*****\n",
      "\n"
     ]
    }
   ],
   "source": [
    "#함수의 정의(인수1)\n",
    "def starPrint(n):        #starPrint라는 함수를 정의하여 코드의 중복을 줄여준다.\n",
    "    for i in range(n):\n",
    "        print(\"*\",end=\"\")\n",
    "    print(\"\\n\")\n",
    "\n",
    "print(\"별10개 찍기\"); starPrint(10)\n",
    "print(\"별3개 찍기\"); starPrint(3)\n",
    "print(\"별5개 찍기\"); starPrint(5)"
   ]
  },
  {
   "cell_type": "code",
   "execution_count": 3,
   "id": "41290a20",
   "metadata": {},
   "outputs": [
    {
     "name": "stdout",
     "output_type": "stream",
     "text": [
      "1~10까지의 합 :  55\n",
      "1~1000까지의 합 :  500500\n",
      "1~100000까지의 합 :  5000050000\n"
     ]
    }
   ],
   "source": [
    "#함수의 정의(인수2)\n",
    "def intsum(n):\n",
    "    sum = 0;                    #누적합 변수 sum 0으로 초기화\n",
    "    for i in range(1,n+1,1):    #1부터 n+1(1~n까지의 합)\n",
    "        sum +=i                 #1씩 더하면서 누적으로 더해준다.\n",
    "    return sum                 #더한 값을 최종 반환한다.\n",
    "\n",
    "print(\"1~10까지의 합 : \", intsum(10))\n",
    "print(\"1~1000까지의 합 : \", intsum(1000))\n",
    "print(\"1~100000까지의 합 : \", intsum(100000))"
   ]
  },
  {
   "cell_type": "code",
   "execution_count": 6,
   "id": "0e0a777e",
   "metadata": {},
   "outputs": [
    {
     "name": "stdout",
     "output_type": "stream",
     "text": [
      "1~10까지의 합 :  55\n",
      "100~1000까지의 합 :  495550\n",
      "5000~100000까지의 합 :  4987552500\n"
     ]
    }
   ],
   "source": [
    "#함수의 정의(인수3)\n",
    "def intsum(x,y) :     #인수를 2개 받아서 x부터 y까지의 합을 더하는 함수 정의\n",
    "    sum = 0;          #누적합 변수 sum 0으로 초기화\n",
    "    for i in range(x,y+1,1) :\n",
    "        sum+=i;\n",
    "    return sum\n",
    "\n",
    "print(\"1~10까지의 합 : \", intsum(1,10))\n",
    "print(\"100~1000까지의 합 : \", intsum(100,1000))\n",
    "print(\"5000~100000까지의 합 : \", intsum(5000,100000))"
   ]
  },
  {
   "cell_type": "code",
   "execution_count": 7,
   "id": "229de0df",
   "metadata": {},
   "outputs": [
    {
     "name": "stdout",
     "output_type": "stream",
     "text": [
      "1~10까지의 합에 5를 더함 :  60\n",
      "100~1000까지의 합에 33을 곱함 :  16353150\n"
     ]
    }
   ],
   "source": [
    "#return 값\n",
    "def intsum(x,y) :      #인수를 2개 받아서 x부터 y까지의 합을 더하는 함수 정의\n",
    "    sum = 0;            #누적합 변수 sum 0으로 초기화\n",
    "    for i in range(x,y+1,1) :\n",
    "        sum += i\n",
    "    return sum\n",
    "\n",
    "print (\"1~10까지의 합에 5를 더함 : \",intsum(1,10)+5)\n",
    "i = intsum(100,1000)*33           #변수에 함수값을 변형한 값을 넣어 출력한다.\n",
    "print(\"100~1000까지의 합에 33을 곱함 : \",i)"
   ]
  },
  {
   "cell_type": "code",
   "execution_count": 8,
   "id": "1f26d721",
   "metadata": {},
   "outputs": [
    {
     "name": "stdout",
     "output_type": "stream",
     "text": [
      "함수내부에서 sum값을 출력 : 495550\n",
      "100 ~ 1000 까지의 합 : None\n",
      "100 ~ 1000 까지의 합에 33을 곱함 : None\n"
     ]
    }
   ],
   "source": [
    "#return 값이 없는 예제\n",
    "def intsum(x, y):     #void 함수처럼 함수 내에서 출력을 하기에 리턴값 없음\n",
    "    sum = 0;\n",
    "    for i in range(x, y + 1, 1):\n",
    "        sum += i\n",
    "    print(\"함수내부에서 sum값을 출력 :\", sum)\n",
    "\n",
    "i = intsum(100, 1000)\n",
    "print(\"100 ~ 1000 까지의 합 :\", i)\n",
    "print(\"100 ~ 1000 까지의 합에 33을 곱함 :\",i)"
   ]
  },
  {
   "cell_type": "code",
   "execution_count": 3,
   "id": "106905d4",
   "metadata": {},
   "outputs": [],
   "source": [
    "#pass\n",
    "#pass는 아무런 처리가 없는 명령\n",
    "\n",
    "def titleprint():\n",
    "    pass\n",
    "\n",
    "def itemprint(name, kortotal, engtotal, mathtotal):\n",
    "    pass\n",
    "\n",
    "def tailprint():\n",
    "    pass\n",
    "\n",
    "#데이터\n",
    "cname=[\"나연\", \"정연\", \"모모\", \"사나\", \"지효\", \"미나\", \"다현\", \"채영\", \"쯔위\"]\n",
    "ckor =[ 100, 100, 90, 90, 100, 80, 70, 80, 100]\n",
    "ceng =[ 90, 100, 100, 80, 100, 70, 60, 100, 100]\n",
    "cmat =[ 100, 80, 100, 90, 100, 90, 100, 90, 100]\n",
    "\n",
    "#여기부터 프로그램\n",
    "titleprint()\n",
    "for i in range(9):\n",
    "    itemprint(cname[i], ckor[i], ceng[i], cmat[i])\n",
    "tailprint() \n",
    "\n",
    "def titleprint():\n",
    "    print(\"=\" * 50)\n",
    "    print(\"이름\\t국어\\t영어\\t수학\\t총점\\t평균\")\n",
    "    print(\"=\" * 50)\n",
    "\n",
    "def itemprint(name, kor, eng, mat):\n",
    "    print(name, \"\\t\", kor, \"\\t\", eng, \"\\t\", mat, \"\\t\", kor + eng + mat, \"\\t\", \n",
    "          (kor + eng + mat) // 3)\n",
    "    \n",
    "def tailprint():\n",
    "    totkor = 0\n",
    "    for i in ckor:\n",
    "        totkor += i\n",
    "    toteng = 0\n",
    "    for i in ceng:\n",
    "        toteng += i\n",
    "    totmat = 0\n",
    "    for i in cmat:\n",
    "        totmat += i\n",
    "    print(\"=\" * 50)\n",
    "    print(\"반총점\\t\", totkor, \"\\t\", toteng, \"\\t\", totmat, \"\\t\"\\\n",
    "          ,(totkor + toteng + totmat) // 9, \"\\t\", (totkor + toteng + totmat) / 3 // 9)\n",
    "    print(\"=\" * 50)\n",
    "\n"
   ]
  },
  {
   "cell_type": "code",
   "execution_count": 4,
   "id": "40cd8cbc",
   "metadata": {},
   "outputs": [
    {
     "name": "stdout",
     "output_type": "stream",
     "text": [
      "case 1 :  1\n",
      "case 2 :  7\n",
      "case 3 :  9505\n"
     ]
    }
   ],
   "source": [
    "#가변인수 1\n",
    "def sumsum(* num):   #인수의 개수가 여러개를 보낼 때 인수명에 *를 붙인다.\n",
    "    sum = 0\n",
    "    for i in num:\n",
    "        sum += i     #인자에 있는 값들을 누적하여 더하는 함수임.\n",
    "    return sum\n",
    "\n",
    "print(\"case 1 : \", sumsum(1))\n",
    "print(\"case 2 : \", sumsum(1,2,4))\n",
    "print(\"case 3 : \", sumsum(1,2,34,567,8901))"
   ]
  },
  {
   "cell_type": "code",
   "execution_count": 5,
   "id": "6fe970d4",
   "metadata": {},
   "outputs": [
    {
     "name": "stdout",
     "output_type": "stream",
     "text": [
      "case 1: 1\n",
      "case 2: 7\n",
      "case 3: 9505\n"
     ]
    }
   ],
   "source": [
    "# 가변인수 2\n",
    "def sumsum(num):    #인수는 1개, 인수가 리스트형이기 때문 한개의 변수에 리스트값 전달\n",
    "    sum = 0\n",
    "    for i in num:\n",
    "        sum += i\n",
    "    return sum\n",
    "\n",
    "print(\"case 1:\", sumsum([1]))\n",
    "print(\"case 2:\", sumsum([1,2,4]))\n",
    "print(\"case 3:\", sumsum([1,2,34,567,8901]))"
   ]
  },
  {
   "cell_type": "code",
   "execution_count": 6,
   "id": "e0341403",
   "metadata": {},
   "outputs": [
    {
     "name": "stdout",
     "output_type": "stream",
     "text": [
      "case 1 : 55\n",
      "case 2 : 3825\n",
      "case 3 : 495550\n"
     ]
    }
   ],
   "source": [
    "#디폴트 값 정리\n",
    "#합을 구하는 함수 예제\n",
    "def defaulttest (start, end=1000, step = 1): #default값을 end1000, step1로 지정\n",
    "    sum = 0\n",
    "    for i in range(start, end+1, step):\n",
    "        sum += i\n",
    "    return sum\n",
    "\n",
    "print(\"case 1 :\", defaulttest(0,10,1))\n",
    "#인수 하나를 생략시 맨 뒤 step 값이 1로 기본값 처리\n",
    "print(\"case 2 :\", defaulttest(50,100))\n",
    "#인수 하나를 생략시 맨뒤 step값이 1\n",
    "#end값이 1000으로 기본값 처리\n",
    "print(\"case 3 :\", defaulttest(100))\n"
   ]
  },
  {
   "cell_type": "code",
   "execution_count": 9,
   "id": "99baba8b",
   "metadata": {},
   "outputs": [
    {
     "name": "stdout",
     "output_type": "stream",
     "text": [
      "case 1 : 55\n",
      "case 2 : 55\n",
      "case 1 : 55\n",
      "case 1 : 55\n",
      "case 1 : 55\n"
     ]
    }
   ],
   "source": [
    "#키워드 인수\n",
    "def defaultTest(start, end=1000, step = 1):\n",
    "    sum = 0\n",
    "    for i in range(start, end+1, step) :\n",
    "        sum+=i\n",
    "    return sum\n",
    "\n",
    "print(\"case 1 :\", defaultTest(0,10,1))\n",
    "#키워드 지정 시 순서가 상관이 없다.\n",
    "print(\"case 2 :\", defaultTest(start=0, end=10, step = 1))\n",
    "#맨뒤로 부터만 키워드 인수를 사용하고 앞은 일반 인수 \n",
    "print(\"case 1 :\", defaultTest(step=1, end=10, start=0))\n",
    "print(\"case 1 :\", defaultTest(0,10,step=1))\n",
    "print(\"case 1 :\", defaultTest(0,step=1, end=10))\n"
   ]
  },
  {
   "cell_type": "code",
   "execution_count": 10,
   "id": "54427acf",
   "metadata": {},
   "outputs": [
    {
     "ename": "SyntaxError",
     "evalue": "positional argument follows keyword argument (1490287836.py, line 9)",
     "output_type": "error",
     "traceback": [
      "\u001b[1;36m  Input \u001b[1;32mIn [10]\u001b[1;36m\u001b[0m\n\u001b[1;33m    print(\"error1:\", defaultTest(0,step=1,10))\u001b[0m\n\u001b[1;37m                                          ^\u001b[0m\n\u001b[1;31mSyntaxError\u001b[0m\u001b[1;31m:\u001b[0m positional argument follows keyword argument\n"
     ]
    }
   ],
   "source": [
    "#키워드 인수(에러발생)\n",
    "def defaultTest(start, end=1000, step = 1):\n",
    "    sum = 0\n",
    "    for i in range(start, end+1, step) :\n",
    "        sum+=i\n",
    "    return sum\n",
    "\n",
    "#인수를 입력할 때는 일반인수를 앞에서부터 써야함...\n",
    "print(\"error1:\", defaultTest(0,step=1,10))\n",
    "print(\"error1:\", defaultTest(start=0,step=1,10))"
   ]
  },
  {
   "cell_type": "code",
   "execution_count": 11,
   "id": "f45c8b29",
   "metadata": {},
   "outputs": [
    {
     "name": "stdout",
     "output_type": "stream",
     "text": [
      "case 1: 55\n",
      "case 2: 5005\n"
     ]
    }
   ],
   "source": [
    "#키워드 가변 인수 1\n",
    "def testfunc(**args) :\n",
    "    start = args[\"start\"]  #키워드 가변\n",
    "    end = args[\"end\"]      #키워드 가변\n",
    "    step = args[\"step\"]    #키워드 가변\n",
    "    sum = 0\n",
    "    for i in range(start, end+1, step):\n",
    "        sum+=i\n",
    "    return sum\n",
    "\n",
    "print(\"case 1:\", testfunc(start = 0, end = 10, step = 1))\n",
    "print(\"case 2:\", testfunc(end = 100, step = 1,start=10))"
   ]
  },
  {
   "cell_type": "code",
   "execution_count": 13,
   "id": "9b04d282",
   "metadata": {},
   "outputs": [
    {
     "name": "stdout",
     "output_type": "stream",
     "text": [
      "==============================\n",
      "***********\n",
      "\n",
      "&&&&&&&&&&&\n",
      "\n",
      "===========\n",
      "\n",
      "==============================\n",
      "   ********\n",
      "\n",
      "   ????????\n",
      "\n",
      "   ========\n",
      "\n",
      "   %%%%%%%%\n",
      "\n"
     ]
    }
   ],
   "source": [
    "#키워드 가변 인수 2\n",
    "def testfunc(*s, **args):\n",
    "    start = args[\"start\"]  #키워드 가변\n",
    "    end = args[\"end\"]      #키워드 가변\n",
    "    step = args[\"step\"]    #키워드 가변\n",
    "    for c in s :\n",
    "        print(\" \"*start, end =\"\")  #start값만큼 공백출력\n",
    "        for i in range(start, end+1, step):\n",
    "            print(c, end=\"\")\n",
    "        print(\"\\n\")\n",
    "\n",
    "print(\"=\"*30)\n",
    "testfunc(\"*\",\"&\",\"=\",start=0,end=10,step=1) #공백없이 10개의 문자 각 출력\n",
    "print(\"=\"*30)\n",
    "testfunc(\"*\",\"?\",\"=\",\"%\",start=3,end=10,step=1) #앞에공백 3칸하고 나머지 출력\n"
   ]
  },
  {
   "cell_type": "code",
   "execution_count": 15,
   "id": "367cd45c",
   "metadata": {},
   "outputs": [
    {
     "name": "stdout",
     "output_type": "stream",
     "text": [
      "testf1 :  1\n",
      "testf2 :  즐거운 실습\n",
      "testf3 :  3.141592\n",
      "랄라랄라\n"
     ]
    }
   ],
   "source": [
    "#전역변수, 지역변수\n",
    "def testf1() :\n",
    "    a=1                      #각 함수에 들어있는 a는 이름만 같을 뿐 각 다른 지역변수\n",
    "    print(\"testf1 : \",a)\n",
    "\n",
    "def testf2():\n",
    "    a=\"즐거운 실습\"\n",
    "    print(\"testf2 : \",a)\n",
    "    \n",
    "def testf3():\n",
    "    a=3.141592\n",
    "    print(\"testf3 : \",a)\n",
    "    \n",
    "testf1()\n",
    "testf2()\n",
    "testf3()\n",
    "a = \"랄라랄라\"\n",
    "print(a)"
   ]
  },
  {
   "cell_type": "code",
   "execution_count": 16,
   "id": "8fcdafb9",
   "metadata": {},
   "outputs": [
    {
     "name": "stdout",
     "output_type": "stream",
     "text": [
      "testf1 : 현재 달러환율은 1달러당  1021  원이며\n",
      "testf1 : 미화 100달러는  102100  원 입니다.\n",
      "testf1 : 현재 달러환율은 1달러당  1120  원이며\n",
      "testf1 : 미화 100달러는  112000  원 입니다.\n",
      "testf2 : 현재 달러환율은 1달러당  1011  원이며\n",
      "testf2 : 미화 100달러는  101100  원 입니다.\n",
      "testf1 : 현재 달러환율은 1달러당  1120  원이며\n",
      "testf1 : 미화 100달러는  112000  원 입니다.\n"
     ]
    }
   ],
   "source": [
    "# 전역변수, 지역변수\n",
    "def testf1():\n",
    "    print(\"testf1 : 현재 달러환율은 1달러당 \", exrate, \" 원이며\")\n",
    "    print(\"testf1 : 미화 100달러는 \", 100 * exrate, \" 원 입니다.\")\n",
    "\n",
    "def testf2():\n",
    "    exrate = 1011   #지역변수가 1011임\n",
    "    print(\"testf2 : 현재 달러환율은 1달러당 \", exrate, \" 원이며\")\n",
    "    print(\"testf2 : 미화 100달러는 \", 100 * exrate, \" 원 입니다.\")\n",
    "\n",
    "exrate = 1021\n",
    "testf1()\n",
    "exrate = 1120  #전역변수가 바뀜과 동시에 testf1의 값은 바뀌었음.\n",
    "testf1()\n",
    "\n",
    "testf2() #case 1  testf2는 지역변수가 정해져있기 때문에 1011로 출력이되었음.\n",
    "testf1() #case 2"
   ]
  },
  {
   "cell_type": "code",
   "execution_count": 18,
   "id": "5076c195",
   "metadata": {},
   "outputs": [
    {
     "name": "stdout",
     "output_type": "stream",
     "text": [
      "Help on function testf1 in module __main__:\n",
      "\n",
      "testf1()\n",
      "    이 함수는 김우현이 최선을 다하여 멋지게 만든 함수\n",
      "    인수 값에 숫자만큼 1부터 해당 값을 더한 값을 출력해준다.\n",
      "\n"
     ]
    }
   ],
   "source": [
    "#docString\n",
    "\n",
    "def testf1() :\n",
    "    \"\"\"\n",
    "이 함수는 김우현이 최선을 다하여 멋지게 만든 함수\n",
    "인수 값에 숫자만큼 1부터 해당 값을 더한 값을 출력해준다.\n",
    "\"\"\"\n",
    "    sum = 0\n",
    "    for i in range(n+1):\n",
    "        sum += i\n",
    "    print(\"sum = \",sum)\n",
    "\n",
    "#프로그램에서(특히 대화식모드) 해당 함수가 궁금할 때 help(testf1)\n",
    "help(testf1)"
   ]
  }
 ],
 "metadata": {
  "kernelspec": {
   "display_name": "Python 3 (ipykernel)",
   "language": "python",
   "name": "python3"
  },
  "language_info": {
   "codemirror_mode": {
    "name": "ipython",
    "version": 3
   },
   "file_extension": ".py",
   "mimetype": "text/x-python",
   "name": "python",
   "nbconvert_exporter": "python",
   "pygments_lexer": "ipython3",
   "version": "3.8.8rc1"
  }
 },
 "nbformat": 4,
 "nbformat_minor": 5
}
