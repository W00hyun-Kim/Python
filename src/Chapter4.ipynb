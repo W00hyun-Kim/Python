{
 "cells": [
  {
   "cell_type": "code",
   "execution_count": 1,
   "id": "f481a6b0",
   "metadata": {},
   "outputs": [
    {
     "data": {
      "text/plain": [
       "(3, 4, 2859)"
      ]
     },
     "execution_count": 1,
     "metadata": {},
     "output_type": "execute_result"
    }
   ],
   "source": [
    "#대입연산자\n",
    "a=3\n",
    "b=4\n",
    "c=123+456*6\n",
    "a,b,c"
   ]
  },
  {
   "cell_type": "code",
   "execution_count": 2,
   "id": "b7a820b2",
   "metadata": {},
   "outputs": [
    {
     "ename": "SyntaxError",
     "evalue": "cannot assign to operator (3672982017.py, line 1)",
     "output_type": "error",
     "traceback": [
      "\u001b[1;36m  Input \u001b[1;32mIn [2]\u001b[1;36m\u001b[0m\n\u001b[1;33m    a+b = c\u001b[0m\n\u001b[1;37m    ^\u001b[0m\n\u001b[1;31mSyntaxError\u001b[0m\u001b[1;31m:\u001b[0m cannot assign to operator\n"
     ]
    }
   ],
   "source": [
    "a+b = c    #왼쪽에는 값을 담을 변수가 들어가야 한다."
   ]
  },
  {
   "cell_type": "code",
   "execution_count": 3,
   "id": "0f34eae1",
   "metadata": {},
   "outputs": [
    {
     "ename": "SyntaxError",
     "evalue": "cannot assign to operator (1555494259.py, line 1)",
     "output_type": "error",
     "traceback": [
      "\u001b[1;36m  Input \u001b[1;32mIn [3]\u001b[1;36m\u001b[0m\n\u001b[1;33m    123+456 =a\u001b[0m\n\u001b[1;37m    ^\u001b[0m\n\u001b[1;31mSyntaxError\u001b[0m\u001b[1;31m:\u001b[0m cannot assign to operator\n"
     ]
    }
   ],
   "source": [
    "123+456 =a   #왼쪽에는 값을 담을 변수가 들어가야 함"
   ]
  },
  {
   "cell_type": "code",
   "execution_count": 4,
   "id": "783170c8",
   "metadata": {},
   "outputs": [
    {
     "ename": "TypeError",
     "evalue": "unsupported operand type(s) for +: 'int' and 'str'",
     "output_type": "error",
     "traceback": [
      "\u001b[1;31m---------------------------------------------------------------------------\u001b[0m",
      "\u001b[1;31mTypeError\u001b[0m                                 Traceback (most recent call last)",
      "Input \u001b[1;32mIn [4]\u001b[0m, in \u001b[0;36m<cell line: 3>\u001b[1;34m()\u001b[0m\n\u001b[0;32m      1\u001b[0m \u001b[38;5;66;03m#단순대입연산자\u001b[39;00m\n\u001b[0;32m      2\u001b[0m a \u001b[38;5;241m=\u001b[39m \u001b[38;5;241m1\u001b[39m\n\u001b[1;32m----> 3\u001b[0m a \u001b[38;5;241m=\u001b[39m \u001b[43ma\u001b[49m\u001b[38;5;241;43m+\u001b[39;49m\u001b[38;5;124;43m\"\u001b[39;49m\u001b[38;5;124;43m안녕\u001b[39;49m\u001b[38;5;124;43m\"\u001b[39;49m\n",
      "\u001b[1;31mTypeError\u001b[0m: unsupported operand type(s) for +: 'int' and 'str'"
     ]
    }
   ],
   "source": [
    "#단순대입연산자\n",
    "a = 1               #a는 수치형\n",
    "a = a+\"안녕\"        #수치형에 문자형을 더하려고 하면 Tyoe에러 발생"
   ]
  },
  {
   "cell_type": "code",
   "execution_count": 5,
   "id": "0ea225d8",
   "metadata": {},
   "outputs": [
    {
     "data": {
      "text/plain": [
       "'abc안녕'"
      ]
     },
     "execution_count": 5,
     "metadata": {},
     "output_type": "execute_result"
    }
   ],
   "source": [
    "a = \"abc\"     #a에 문자를 대입하면 a의 타입은 문자형이 된다.\n",
    "a = a + \"안녕\"\n",
    "a\n"
   ]
  },
  {
   "cell_type": "code",
   "execution_count": 6,
   "id": "1da20dfc",
   "metadata": {},
   "outputs": [
    {
     "data": {
      "text/plain": [
       "(1, 2)"
      ]
     },
     "execution_count": 6,
     "metadata": {},
     "output_type": "execute_result"
    }
   ],
   "source": [
    "#복합형태 대입 연산자\n",
    "#a,b = b,a 로 a,b 변수의 값을 서로 바꿀 수 있다.\n",
    "a = 1\n",
    "b = 2\n",
    "a,b"
   ]
  },
  {
   "cell_type": "code",
   "execution_count": 7,
   "id": "367c1ee8",
   "metadata": {},
   "outputs": [
    {
     "data": {
      "text/plain": [
       "(2, 1)"
      ]
     },
     "execution_count": 7,
     "metadata": {},
     "output_type": "execute_result"
    }
   ],
   "source": [
    "a,b = b,a\n",
    "a,b"
   ]
  },
  {
   "cell_type": "code",
   "execution_count": 9,
   "id": "91032d57",
   "metadata": {},
   "outputs": [
    {
     "data": {
      "text/plain": [
       "(1, 2, '안녕', '하세요', 3, 4)"
      ]
     },
     "execution_count": 9,
     "metadata": {},
     "output_type": "execute_result"
    }
   ],
   "source": [
    "#여러 변수의 값을 한번에 대입할 수 있다.\n",
    "a,b,c,d,e,f=1,2,\"안녕\",\"하세요\",3,4\n",
    "a,b,c,d,e,f"
   ]
  },
  {
   "cell_type": "code",
   "execution_count": 10,
   "id": "1222243e",
   "metadata": {},
   "outputs": [
    {
     "data": {
      "text/plain": [
       "(1, 1)"
      ]
     },
     "execution_count": 10,
     "metadata": {},
     "output_type": "execute_result"
    }
   ],
   "source": [
    "#단순 변수는 값을 대입하는 것이지만, 컬렉션의 경우 같은 변수를 공유하는 것임\n",
    "a = b= 1\n",
    "a,b"
   ]
  },
  {
   "cell_type": "code",
   "execution_count": 11,
   "id": "de999fb2",
   "metadata": {},
   "outputs": [
    {
     "data": {
      "text/plain": [
       "(1, 2)"
      ]
     },
     "execution_count": 11,
     "metadata": {},
     "output_type": "execute_result"
    }
   ],
   "source": [
    "b = 2\n",
    "a,b"
   ]
  },
  {
   "cell_type": "code",
   "execution_count": 12,
   "id": "f1c90d8a",
   "metadata": {},
   "outputs": [
    {
     "data": {
      "text/plain": [
       "([1, 2, 3], [1, 2, 3])"
      ]
     },
     "execution_count": 12,
     "metadata": {},
     "output_type": "execute_result"
    }
   ],
   "source": [
    "a=b=[1,2,3]\n",
    "a,b"
   ]
  },
  {
   "cell_type": "code",
   "execution_count": 13,
   "id": "74a2a8db",
   "metadata": {},
   "outputs": [
    {
     "data": {
      "text/plain": [
       "([1, 4, 3], [1, 4, 3])"
      ]
     },
     "execution_count": 13,
     "metadata": {},
     "output_type": "execute_result"
    }
   ],
   "source": [
    "a[1]=4       #a의 1번 변수만 바꿔주었는데, 컬렉션은 변수를 공유하기에 b의 값도 바뀜\n",
    "a,b"
   ]
  },
  {
   "cell_type": "code",
   "execution_count": 14,
   "id": "356680b4",
   "metadata": {},
   "outputs": [
    {
     "data": {
      "text/plain": [
       "([1, 2, 3, 4, 5], [1, 2, 3, 4, 5])"
      ]
     },
     "execution_count": 14,
     "metadata": {},
     "output_type": "execute_result"
    }
   ],
   "source": [
    "#컬렉션에서 값을 복사하는 경우\n",
    "a = [1,2,3,4,5]\n",
    "b = a[:]      #a컬렉션의 값을 복사한다.\n",
    "a,b"
   ]
  },
  {
   "cell_type": "code",
   "execution_count": 15,
   "id": "cebac461",
   "metadata": {},
   "outputs": [
    {
     "data": {
      "text/plain": [
       "([1, 2, 5, 4, 5], [1, 2, 3, 4, 5])"
      ]
     },
     "execution_count": 15,
     "metadata": {},
     "output_type": "execute_result"
    }
   ],
   "source": [
    "a[2] = 5      #a컬렉션의 인덱스2값을 바꾸면 자동으로 b의 해당 인덱스 값도 바뀜\n",
    "a,b"
   ]
  },
  {
   "cell_type": "code",
   "execution_count": 2,
   "id": "b6a80f64",
   "metadata": {},
   "outputs": [
    {
     "data": {
      "text/plain": [
       "27"
      ]
     },
     "execution_count": 2,
     "metadata": {},
     "output_type": "execute_result"
    }
   ],
   "source": [
    "import sys\n",
    "a = 1232          #a=123이라고 정의하면 어느 공간에 값을 놓고 참조를 함\n",
    "sys.getrefcount(123)"
   ]
  },
  {
   "cell_type": "code",
   "execution_count": 3,
   "id": "7a963fda",
   "metadata": {},
   "outputs": [
    {
     "data": {
      "text/plain": [
       "29"
      ]
     },
     "execution_count": 3,
     "metadata": {},
     "output_type": "execute_result"
    }
   ],
   "source": [
    "b = 123; sys.getrefcount(123)  #b=123을 만나면 참조횟수가 증가한다."
   ]
  },
  {
   "cell_type": "code",
   "execution_count": 4,
   "id": "8274e859",
   "metadata": {},
   "outputs": [
    {
     "data": {
      "text/plain": [
       "30"
      ]
     },
     "execution_count": 4,
     "metadata": {},
     "output_type": "execute_result"
    }
   ],
   "source": [
    "c = 123; sys.getrefcount(123)   #c=123을 만나면 참조 횟수가 증가"
   ]
  },
  {
   "cell_type": "code",
   "execution_count": 5,
   "id": "471fb67a",
   "metadata": {},
   "outputs": [
    {
     "data": {
      "text/plain": [
       "2.5"
      ]
     },
     "execution_count": 5,
     "metadata": {},
     "output_type": "execute_result"
    }
   ],
   "source": [
    "#산술연산자\n",
    "1+2*3/4"
   ]
  },
  {
   "cell_type": "code",
   "execution_count": 6,
   "id": "2f6b3d44",
   "metadata": {},
   "outputs": [
    {
     "data": {
      "text/plain": [
       "8"
      ]
     },
     "execution_count": 6,
     "metadata": {},
     "output_type": "execute_result"
    }
   ],
   "source": [
    "2**3         #2^3"
   ]
  },
  {
   "cell_type": "code",
   "execution_count": 7,
   "id": "812574ed",
   "metadata": {},
   "outputs": [
    {
     "data": {
      "text/plain": [
       "3.3333333333333335"
      ]
     },
     "execution_count": 7,
     "metadata": {},
     "output_type": "execute_result"
    }
   ],
   "source": [
    "10/3"
   ]
  },
  {
   "cell_type": "code",
   "execution_count": 8,
   "id": "fa804740",
   "metadata": {},
   "outputs": [
    {
     "data": {
      "text/plain": [
       "1.2345678910112e+25"
      ]
     },
     "execution_count": 8,
     "metadata": {},
     "output_type": "execute_result"
    }
   ],
   "source": [
    "1e12*12345678910112"
   ]
  },
  {
   "cell_type": "code",
   "execution_count": 10,
   "id": "3d055f21",
   "metadata": {},
   "outputs": [
    {
     "data": {
      "text/plain": [
       "(124+14j)"
      ]
     },
     "execution_count": 10,
     "metadata": {},
     "output_type": "execute_result"
    }
   ],
   "source": [
    "a = 1+2j\n",
    "a + (123 + 12j)"
   ]
  },
  {
   "cell_type": "code",
   "execution_count": 12,
   "id": "77c8f730",
   "metadata": {},
   "outputs": [
    {
     "data": {
      "text/plain": [
       "2.5"
      ]
     },
     "execution_count": 12,
     "metadata": {},
     "output_type": "execute_result"
    }
   ],
   "source": [
    "#정수형 연산자\n",
    "5/2"
   ]
  },
  {
   "cell_type": "code",
   "execution_count": 13,
   "id": "0bf6ccf4",
   "metadata": {},
   "outputs": [
    {
     "data": {
      "text/plain": [
       "2"
      ]
     },
     "execution_count": 13,
     "metadata": {},
     "output_type": "execute_result"
    }
   ],
   "source": [
    "5//2   # //(정수형 나눗셈)"
   ]
  },
  {
   "cell_type": "code",
   "execution_count": 14,
   "id": "b32c9512",
   "metadata": {},
   "outputs": [
    {
     "data": {
      "text/plain": [
       "1"
      ]
     },
     "execution_count": 14,
     "metadata": {},
     "output_type": "execute_result"
    }
   ],
   "source": [
    "5%2   # %(나머지연산)"
   ]
  },
  {
   "cell_type": "code",
   "execution_count": 15,
   "id": "66e6f926",
   "metadata": {},
   "outputs": [
    {
     "name": "stdout",
     "output_type": "stream",
     "text": [
      "2\n"
     ]
    }
   ],
   "source": [
    "a = 1; a=a+1; print(a)    #누적 a+=a "
   ]
  },
  {
   "cell_type": "code",
   "execution_count": 16,
   "id": "7a1b2b3d",
   "metadata": {},
   "outputs": [
    {
     "name": "stdout",
     "output_type": "stream",
     "text": [
      "2\n"
     ]
    }
   ],
   "source": [
    "a = 1; a+=1 ; print(a)"
   ]
  },
  {
   "cell_type": "code",
   "execution_count": 17,
   "id": "8769d6b3",
   "metadata": {},
   "outputs": [
    {
     "data": {
      "text/plain": [
       "24"
      ]
     },
     "execution_count": 17,
     "metadata": {},
     "output_type": "execute_result"
    }
   ],
   "source": [
    "a*=12;a"
   ]
  },
  {
   "cell_type": "code",
   "execution_count": 18,
   "id": "cc3ae7a9",
   "metadata": {},
   "outputs": [
    {
     "data": {
      "text/plain": [
       "48"
      ]
     },
     "execution_count": 18,
     "metadata": {},
     "output_type": "execute_result"
    }
   ],
   "source": [
    "a*=2; a"
   ]
  },
  {
   "cell_type": "code",
   "execution_count": 19,
   "id": "dab87302",
   "metadata": {},
   "outputs": [
    {
     "data": {
      "text/plain": [
       "0"
      ]
     },
     "execution_count": 19,
     "metadata": {},
     "output_type": "execute_result"
    }
   ],
   "source": [
    "a = 1; a-=1; a"
   ]
  },
  {
   "cell_type": "code",
   "execution_count": 20,
   "id": "17c9fb3a",
   "metadata": {},
   "outputs": [
    {
     "data": {
      "text/plain": [
       "-1"
      ]
     },
     "execution_count": 20,
     "metadata": {},
     "output_type": "execute_result"
    }
   ],
   "source": [
    "a -= 1; a"
   ]
  },
  {
   "cell_type": "code",
   "execution_count": 22,
   "id": "99a60905",
   "metadata": {},
   "outputs": [
    {
     "ename": "SyntaxError",
     "evalue": "invalid syntax (2621209702.py, line 3)",
     "output_type": "error",
     "traceback": [
      "\u001b[1;36m  Input \u001b[1;32mIn [22]\u001b[1;36m\u001b[0m\n\u001b[1;33m    a++\u001b[0m\n\u001b[1;37m       ^\u001b[0m\n\u001b[1;31mSyntaxError\u001b[0m\u001b[1;31m:\u001b[0m invalid syntax\n"
     ]
    }
   ],
   "source": [
    "#자바에서 쓰이는 a++, a--는 사용할 수 없음\n",
    "a =1 \n",
    "a++"
   ]
  },
  {
   "cell_type": "code",
   "execution_count": 24,
   "id": "42c5c31f",
   "metadata": {},
   "outputs": [
    {
     "ename": "SyntaxError",
     "evalue": "invalid syntax (1562500846.py, line 1)",
     "output_type": "error",
     "traceback": [
      "\u001b[1;36m  Input \u001b[1;32mIn [24]\u001b[1;36m\u001b[0m\n\u001b[1;33m    a--\u001b[0m\n\u001b[1;37m       ^\u001b[0m\n\u001b[1;31mSyntaxError\u001b[0m\u001b[1;31m:\u001b[0m invalid syntax\n"
     ]
    }
   ],
   "source": [
    "a--"
   ]
  },
  {
   "cell_type": "code",
   "execution_count": 25,
   "id": "cd54c876",
   "metadata": {},
   "outputs": [
    {
     "data": {
      "text/plain": [
       "1"
      ]
     },
     "execution_count": 25,
     "metadata": {},
     "output_type": "execute_result"
    }
   ],
   "source": [
    "a =+ 1; a"
   ]
  },
  {
   "cell_type": "code",
   "execution_count": 26,
   "id": "ddec67fa",
   "metadata": {},
   "outputs": [
    {
     "data": {
      "text/plain": [
       "-1"
      ]
     },
     "execution_count": 26,
     "metadata": {},
     "output_type": "execute_result"
    }
   ],
   "source": [
    "a=- 1; a"
   ]
  },
  {
   "cell_type": "code",
   "execution_count": 27,
   "id": "2d529c27",
   "metadata": {},
   "outputs": [
    {
     "data": {
      "text/plain": [
       "'멍멍이고양이'"
      ]
     },
     "execution_count": 27,
     "metadata": {},
     "output_type": "execute_result"
    }
   ],
   "source": [
    "#문자형 변환\n",
    "a = \"멍멍이\"\n",
    "b = \"고양이\"\n",
    "a + b"
   ]
  },
  {
   "cell_type": "code",
   "execution_count": 29,
   "id": "8b56aa3e",
   "metadata": {},
   "outputs": [
    {
     "data": {
      "text/plain": [
       "'멍멍이멍멍이멍멍이고양이고양이'"
      ]
     },
     "execution_count": 29,
     "metadata": {},
     "output_type": "execute_result"
    }
   ],
   "source": [
    "a * 3 + b * 2"
   ]
  },
  {
   "cell_type": "code",
   "execution_count": 30,
   "id": "77b78d8e",
   "metadata": {},
   "outputs": [
    {
     "data": {
      "text/plain": [
       "'--------------------'"
      ]
     },
     "execution_count": 30,
     "metadata": {},
     "output_type": "execute_result"
    }
   ],
   "source": [
    "\"-\" * 20"
   ]
  },
  {
   "cell_type": "code",
   "execution_count": 31,
   "id": "5165610b",
   "metadata": {},
   "outputs": [
    {
     "ename": "TypeError",
     "evalue": "can only concatenate str (not \"int\") to str",
     "output_type": "error",
     "traceback": [
      "\u001b[1;31m---------------------------------------------------------------------------\u001b[0m",
      "\u001b[1;31mTypeError\u001b[0m                                 Traceback (most recent call last)",
      "Input \u001b[1;32mIn [31]\u001b[0m, in \u001b[0;36m<cell line: 2>\u001b[1;34m()\u001b[0m\n\u001b[0;32m      1\u001b[0m a \u001b[38;5;241m=\u001b[39m \u001b[38;5;241m1\u001b[39m\n\u001b[1;32m----> 2\u001b[0m b \u001b[38;5;241m=\u001b[39m \u001b[38;5;124;43m\"\u001b[39;49m\u001b[38;5;124;43m강아지\u001b[39;49m\u001b[38;5;124;43m\"\u001b[39;49m\u001b[43m \u001b[49m\u001b[38;5;241;43m+\u001b[39;49m\u001b[43m \u001b[49m\u001b[43ma\u001b[49m \u001b[38;5;241m+\u001b[39m \u001b[38;5;124m\"\u001b[39m\u001b[38;5;124m마리\u001b[39m\u001b[38;5;124m\"\u001b[39m\n",
      "\u001b[1;31mTypeError\u001b[0m: can only concatenate str (not \"int\") to str"
     ]
    }
   ],
   "source": [
    "a = 1\n",
    "b = \"강아지\" + a + \"마리\"  #a변수가 int 형태이기 때문에 str로 바꿔서 합해줘야함"
   ]
  },
  {
   "cell_type": "code",
   "execution_count": 32,
   "id": "277d6ef3",
   "metadata": {},
   "outputs": [
    {
     "data": {
      "text/plain": [
       "'강이지1마리'"
      ]
     },
     "execution_count": 32,
     "metadata": {},
     "output_type": "execute_result"
    }
   ],
   "source": [
    "b = \"강이지\" + str(a) + \"마리\"\n",
    "b"
   ]
  },
  {
   "cell_type": "code",
   "execution_count": 34,
   "id": "1a67a35a",
   "metadata": {},
   "outputs": [
    {
     "data": {
      "text/plain": [
       "44032"
      ]
     },
     "execution_count": 34,
     "metadata": {},
     "output_type": "execute_result"
    }
   ],
   "source": [
    "#ord() 함수는 문자의 내부코드값을 반환한다.\n",
    "ord(\"가\")"
   ]
  },
  {
   "cell_type": "code",
   "execution_count": 35,
   "id": "9ab73896",
   "metadata": {},
   "outputs": [
    {
     "data": {
      "text/plain": [
       "'0x61'"
      ]
     },
     "execution_count": 35,
     "metadata": {},
     "output_type": "execute_result"
    }
   ],
   "source": [
    "hex(ord(\"a\"))"
   ]
  },
  {
   "cell_type": "code",
   "execution_count": 36,
   "id": "1756f01e",
   "metadata": {},
   "outputs": [
    {
     "name": "stdout",
     "output_type": "stream",
     "text": [
      "0x61 = a , 0x62 = b , 0x63 = c , 0x64 = d , 0x65 = e , 0x66 = f , 0x67 = g , 0x68 = h , 0x69 = i , 0x6a = j , 0x6b = k , 0x6c = l , 0x6d = m , 0x6e = n , 0x6f = o , 0x70 = p , 0x71 = q , 0x72 = r , 0x73 = s , 0x74 = t , 0x75 = u , 0x76 = v , 0x77 = w , 0x78 = x , 0x79 = y , 0x7a = z , "
     ]
    }
   ],
   "source": [
    "#문자 a부터 z까지의 문자의 내부코드값을 출력\n",
    "for c in range (ord('a'), ord('z') + 1) :\n",
    "    print(hex(c), \"=\", chr(c), \", \", end = \"\")"
   ]
  },
  {
   "cell_type": "code",
   "execution_count": 37,
   "id": "4736902d",
   "metadata": {},
   "outputs": [
    {
     "ename": "TypeError",
     "evalue": "can only concatenate str (not \"int\") to str",
     "output_type": "error",
     "traceback": [
      "\u001b[1;31m---------------------------------------------------------------------------\u001b[0m",
      "\u001b[1;31mTypeError\u001b[0m                                 Traceback (most recent call last)",
      "Input \u001b[1;32mIn [37]\u001b[0m, in \u001b[0;36m<cell line: 2>\u001b[1;34m()\u001b[0m\n\u001b[0;32m      1\u001b[0m \u001b[38;5;66;03m#숫자형 변환\u001b[39;00m\n\u001b[1;32m----> 2\u001b[0m a \u001b[38;5;241m=\u001b[39m \u001b[38;5;124m\"\u001b[39m\u001b[38;5;124m123\u001b[39m\u001b[38;5;124m\"\u001b[39m; \u001b[43ma\u001b[49m\u001b[43m \u001b[49m\u001b[38;5;241;43m+\u001b[39;49m\u001b[43m \u001b[49m\u001b[38;5;241;43m1\u001b[39;49m\n",
      "\u001b[1;31mTypeError\u001b[0m: can only concatenate str (not \"int\") to str"
     ]
    }
   ],
   "source": [
    "#숫자형 변환\n",
    "a = \"123\"; a + 1         #str인 a를 먼저 int로 변환해줘야함"
   ]
  },
  {
   "cell_type": "code",
   "execution_count": 38,
   "id": "98f3b997",
   "metadata": {},
   "outputs": [
    {
     "data": {
      "text/plain": [
       "124"
      ]
     },
     "execution_count": 38,
     "metadata": {},
     "output_type": "execute_result"
    }
   ],
   "source": [
    "a = \"123\"; int(a) + 1     #str인 a를 int로 바꿔서 1을 더한다."
   ]
  },
  {
   "cell_type": "code",
   "execution_count": 39,
   "id": "5e1af6af",
   "metadata": {},
   "outputs": [
    {
     "data": {
      "text/plain": [
       "12"
      ]
     },
     "execution_count": 39,
     "metadata": {},
     "output_type": "execute_result"
    }
   ],
   "source": [
    "a = 12.3; int(a)      #float인 a를 int로 바꿔 소수점 아래를 없앤다."
   ]
  },
  {
   "cell_type": "code",
   "execution_count": 40,
   "id": "805a9ce9",
   "metadata": {},
   "outputs": [
    {
     "ename": "ValueError",
     "evalue": "invalid literal for int() with base 10: '12.3'",
     "output_type": "error",
     "traceback": [
      "\u001b[1;31m---------------------------------------------------------------------------\u001b[0m",
      "\u001b[1;31mValueError\u001b[0m                                Traceback (most recent call last)",
      "Input \u001b[1;32mIn [40]\u001b[0m, in \u001b[0;36m<cell line: 1>\u001b[1;34m()\u001b[0m\n\u001b[1;32m----> 1\u001b[0m a \u001b[38;5;241m=\u001b[39m \u001b[38;5;124m\"\u001b[39m\u001b[38;5;124m12.3\u001b[39m\u001b[38;5;124m\"\u001b[39m; \u001b[38;5;28;43mint\u001b[39;49m\u001b[43m(\u001b[49m\u001b[43ma\u001b[49m\u001b[43m)\u001b[49m\n",
      "\u001b[1;31mValueError\u001b[0m: invalid literal for int() with base 10: '12.3'"
     ]
    }
   ],
   "source": [
    "a = \"12.3\"; int(a)        #str를 숫자형으로 바꿔도 결국 int가 아님(float)"
   ]
  },
  {
   "cell_type": "code",
   "execution_count": 41,
   "id": "7cb5859c",
   "metadata": {},
   "outputs": [
    {
     "data": {
      "text/plain": [
       "12.3"
      ]
     },
     "execution_count": 41,
     "metadata": {},
     "output_type": "execute_result"
    }
   ],
   "source": [
    "float(a)         #str을 float 형으로 바꾼다."
   ]
  },
  {
   "cell_type": "code",
   "execution_count": 43,
   "id": "555b7493",
   "metadata": {},
   "outputs": [
    {
     "data": {
      "text/plain": [
       "14.1"
      ]
     },
     "execution_count": 43,
     "metadata": {},
     "output_type": "execute_result"
    }
   ],
   "source": [
    "a=1.1; 1+a+12      # float형인 a를 각 정수들과 더한다."
   ]
  },
  {
   "cell_type": "code",
   "execution_count": 44,
   "id": "5bd55b26",
   "metadata": {},
   "outputs": [
    {
     "data": {
      "text/plain": [
       "14"
      ]
     },
     "execution_count": 44,
     "metadata": {},
     "output_type": "execute_result"
    }
   ],
   "source": [
    "1+int(a)+12          #float인 a를 int로 바꾼 후 더한다."
   ]
  },
  {
   "cell_type": "code",
   "execution_count": 45,
   "id": "f08e756a",
   "metadata": {},
   "outputs": [
    {
     "data": {
      "text/plain": [
       "3"
      ]
     },
     "execution_count": 45,
     "metadata": {},
     "output_type": "execute_result"
    }
   ],
   "source": [
    "int(3.14)         #float형을 int로 변환한다."
   ]
  },
  {
   "cell_type": "code",
   "execution_count": 49,
   "id": "ec9212a2",
   "metadata": {},
   "outputs": [
    {
     "data": {
      "text/plain": [
       "3"
      ]
     },
     "execution_count": 49,
     "metadata": {},
     "output_type": "execute_result"
    }
   ],
   "source": [
    "round(3.14)    # 해당 값을 반올림한다."
   ]
  },
  {
   "cell_type": "code",
   "execution_count": 50,
   "id": "425b4adc",
   "metadata": {},
   "outputs": [
    {
     "data": {
      "text/plain": [
       "3.1"
      ]
     },
     "execution_count": 50,
     "metadata": {},
     "output_type": "execute_result"
    }
   ],
   "source": [
    " round(3.14,1)    #해당 값을 반올림하여 소수점 1의자리까지 나타낸다."
   ]
  },
  {
   "cell_type": "code",
   "execution_count": 51,
   "id": "7ad17e99",
   "metadata": {},
   "outputs": [
    {
     "data": {
      "text/plain": [
       "120000"
      ]
     },
     "execution_count": 51,
     "metadata": {},
     "output_type": "execute_result"
    }
   ],
   "source": [
    " round(123456,-4)  #왼쪽으로 4칸 이동한 자리에서 반올림"
   ]
  },
  {
   "cell_type": "code",
   "execution_count": 53,
   "id": "376fbcf8",
   "metadata": {},
   "outputs": [
    {
     "data": {
      "text/plain": [
       "1235000"
      ]
     },
     "execution_count": 53,
     "metadata": {},
     "output_type": "execute_result"
    }
   ],
   "source": [
    "#올림계산\n",
    "a=1234567\n",
    "if(a%1000 !=0) :                 #1000으로 나누어 나머지가 있다면\n",
    "    a = int(a/1000) *1000 + 1000 # 버린값에다 한자리를 올려준다.(올림처리)\n",
    "else:\n",
    "    a = int(a/1000)*10000\n",
    "a"
   ]
  }
 ],
 "metadata": {
  "kernelspec": {
   "display_name": "Python 3 (ipykernel)",
   "language": "python",
   "name": "python3"
  },
  "language_info": {
   "codemirror_mode": {
    "name": "ipython",
    "version": 3
   },
   "file_extension": ".py",
   "mimetype": "text/x-python",
   "name": "python",
   "nbconvert_exporter": "python",
   "pygments_lexer": "ipython3",
   "version": "3.8.8rc1"
  }
 },
 "nbformat": 4,
 "nbformat_minor": 5
}
