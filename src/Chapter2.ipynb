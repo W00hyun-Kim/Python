{
 "cells": [
  {
   "cell_type": "code",
   "execution_count": 7,
   "id": "4d7f8169",
   "metadata": {},
   "outputs": [
    {
     "data": {
      "text/plain": [
       "3"
      ]
     },
     "execution_count": 7,
     "metadata": {},
     "output_type": "execute_result"
    }
   ],
   "source": [
    "# 연산자를 붙여써도 연산에는 문제가 없다.\n",
    "1+2\n",
    "1 + 2"
   ]
  },
  {
   "cell_type": "code",
   "execution_count": 9,
   "id": "0a967886",
   "metadata": {},
   "outputs": [
    {
     "ename": "IndentationError",
     "evalue": "unexpected indent (935434462.py, line 3)",
     "output_type": "error",
     "traceback": [
      "\u001b[1;36m  Input \u001b[1;32mIn [9]\u001b[1;36m\u001b[0m\n\u001b[1;33m    1 + 2\u001b[0m\n\u001b[1;37m    ^\u001b[0m\n\u001b[1;31mIndentationError\u001b[0m\u001b[1;31m:\u001b[0m unexpected indent\n"
     ]
    }
   ],
   "source": [
    "# 첫 칸을 비우면 syntaxError가 뜬다.\n",
    "1 + 2\n",
    " 1 + 2"
   ]
  },
  {
   "cell_type": "code",
   "execution_count": 11,
   "id": "cdd5a4d0",
   "metadata": {},
   "outputs": [
    {
     "name": "stdout",
     "output_type": "stream",
     "text": [
      "스위치 on\n"
     ]
    }
   ],
   "source": [
    "#들여쓰기를 통해 블록을 인식한다.\n",
    "#블록의 시작은 :(콜론)으로 표시한다. (자바에서는 {}를 사용했었음)\n",
    "sw = 1\n",
    "if sw == 1 :\n",
    "    print(\"스위치 on\")\n",
    "else:\n",
    "    print(\"스위치 off\")"
   ]
  },
  {
   "cell_type": "code",
   "execution_count": 12,
   "id": "68c980e5",
   "metadata": {},
   "outputs": [
    {
     "data": {
      "text/plain": [
       "12"
      ]
     },
     "execution_count": 12,
     "metadata": {},
     "output_type": "execute_result"
    }
   ],
   "source": [
    "#여러 명령어를 사용할 때는 ;(세미콜론)을 사용함\n",
    "1+2; 3+4; 5+7"
   ]
  },
  {
   "cell_type": "code",
   "execution_count": 13,
   "id": "12bcea97",
   "metadata": {},
   "outputs": [
    {
     "name": "stdout",
     "output_type": "stream",
     "text": [
      "3\n"
     ]
    },
    {
     "ename": "NameError",
     "evalue": "name 'Print' is not defined",
     "output_type": "error",
     "traceback": [
      "\u001b[1;31m---------------------------------------------------------------------------\u001b[0m",
      "\u001b[1;31mNameError\u001b[0m                                 Traceback (most recent call last)",
      "Input \u001b[1;32mIn [13]\u001b[0m, in \u001b[0;36m<cell line: 3>\u001b[1;34m()\u001b[0m\n\u001b[0;32m      1\u001b[0m \u001b[38;5;66;03m#대문자와 소문자를 구분하여 사용하여야 한다.\u001b[39;00m\n\u001b[0;32m      2\u001b[0m \u001b[38;5;28mprint\u001b[39m(\u001b[38;5;241m1\u001b[39m\u001b[38;5;241m+\u001b[39m\u001b[38;5;241m2\u001b[39m)     \u001b[38;5;66;03m#모두 소문자로 적음\u001b[39;00m\n\u001b[1;32m----> 3\u001b[0m \u001b[43mPrint\u001b[49m(\u001b[38;5;241m1\u001b[39m\u001b[38;5;241m+\u001b[39m\u001b[38;5;241m2\u001b[39m)     \u001b[38;5;66;03m#P만 대문자로 적음\u001b[39;00m\n\u001b[0;32m      4\u001b[0m PRINT(\u001b[38;5;241m1\u001b[39m\u001b[38;5;241m+\u001b[39m\u001b[38;5;241m2\u001b[39m)\n",
      "\u001b[1;31mNameError\u001b[0m: name 'Print' is not defined"
     ]
    }
   ],
   "source": [
    "#대문자와 소문자를 구분하여 사용하여야 한다. (all대문자거나 all 소문자)\n",
    "print(1+2)     #모두 소문자로 적음\n",
    "Print(1+2)     #P만 대문자로 적음\n",
    "PRINT(1+2)     #모두 대문자로 적음"
   ]
  },
  {
   "cell_type": "code",
   "execution_count": 14,
   "id": "db81f86f",
   "metadata": {},
   "outputs": [
    {
     "ename": "SyntaxError",
     "evalue": "invalid syntax (4272622148.py, line 2)",
     "output_type": "error",
     "traceback": [
      "\u001b[1;36m  Input \u001b[1;32mIn [14]\u001b[1;36m\u001b[0m\n\u001b[1;33m    print(출력내용 [, sep = 구분문자][, end = 마지막 문자])\u001b[0m\n\u001b[1;37m                ^\u001b[0m\n\u001b[1;31mSyntaxError\u001b[0m\u001b[1;31m:\u001b[0m invalid syntax\n"
     ]
    }
   ],
   "source": [
    "# print 명령이 출력에 기본 명령이고 아래와 같은 형식으로 사용한다.\n",
    "print(출력내용 [, sep = 구분문자][, end = 마지막 문자])"
   ]
  },
  {
   "cell_type": "code",
   "execution_count": 19,
   "id": "3aa0a712",
   "metadata": {},
   "outputs": [
    {
     "data": {
      "text/plain": [
       "3"
      ]
     },
     "execution_count": 19,
     "metadata": {},
     "output_type": "execute_result"
    }
   ],
   "source": [
    "#대화형에서는 print문장이 없어도 출력이 가능하다.\n",
    "abc = 1\n",
    "1 + 2               #print를 따로 기재하지 않아도 출력처리된다."
   ]
  },
  {
   "cell_type": "code",
   "execution_count": 20,
   "id": "dcc63b03",
   "metadata": {},
   "outputs": [
    {
     "data": {
      "text/plain": [
       "1"
      ]
     },
     "execution_count": 20,
     "metadata": {},
     "output_type": "execute_result"
    }
   ],
   "source": [
    "abc = 1\n",
    "abc                #print를 따로 쓰지 않아도 abc가 출력된다."
   ]
  },
  {
   "cell_type": "code",
   "execution_count": 21,
   "id": "e436747f",
   "metadata": {},
   "outputs": [
    {
     "name": "stdout",
     "output_type": "stream",
     "text": [
      "1\n",
      "3\n"
     ]
    }
   ],
   "source": [
    "print(abc)         #print를 해주고 싶을 땐 왼쪽과 같이 진행\n",
    "print(1+2)"
   ]
  },
  {
   "cell_type": "code",
   "execution_count": 22,
   "id": "d6fdfdf2",
   "metadata": {},
   "outputs": [
    {
     "name": "stdout",
     "output_type": "stream",
     "text": [
      "3\n",
      "3\n"
     ]
    }
   ],
   "source": [
    "#지금은 대화형이기에 출력이 원활하게 되지만, 스크립트 형식에서는 print 문장이 없이 출력되진 않는다.\n",
    "a=1\n",
    "b=2\n",
    "a+b\n",
    "print(a+b)\n",
    "1+2\n",
    "print(1+2)"
   ]
  },
  {
   "cell_type": "code",
   "execution_count": 24,
   "id": "6eb9d5a7",
   "metadata": {},
   "outputs": [
    {
     "name": "stdout",
     "output_type": "stream",
     "text": [
      "아침 점심 저녁\n",
      "아침먹고 점심먹고 저녁\n",
      "아침먹고 점심먹고 저녁땡"
     ]
    }
   ],
   "source": [
    "#구분문자와 마지막 문자의 예제\n",
    "a = \"아침\"\n",
    "b = \"점심\"\n",
    "c = \"저녁\"\n",
    "print(a,b,c)                        #각 변수에 들어간 string 값이 나란히 출력\n",
    "print(a,b,c, sep =\"먹고 \")           #sep은 구분문자로 해당 부분이 먹고로 치환됨\n",
    "print(a,b,c, sep = \"먹고 \",end=\"땡\") #마지막 구분문자는 end로 명시하며 해당 부분이 땡 으로 치환된다."
   ]
  },
  {
   "cell_type": "code",
   "execution_count": 25,
   "id": "138b0255",
   "metadata": {},
   "outputs": [
    {
     "name": "stdout",
     "output_type": "stream",
     "text": [
      "아침 점심 저녁\n",
      "아침먹고 점심먹고 저녁\n",
      "아침먹고 점심먹고 저녁아침자고 점심자고 저녁아침먹고 점심먹고 저녁\n",
      "아침자고 점심자고 저녁\n"
     ]
    }
   ],
   "source": [
    "#구분문자와 마지막 문자의 예제\n",
    "a = \"아침\"\n",
    "b = \"점심\"\n",
    "c = \"저녁\"\n",
    "print(a,b,c)                           #각 변수에 들어간 string 값이 나란히 출력\n",
    "print(a,b,c, sep =\"먹고 \")             #sep은 구분문자로 해당 부분이 먹고로 치환됨\n",
    "print(a,b,c, sep =\"먹고 \",end = \"\")    \n",
    "print(a,b,c, sep =\"자고 \",end = \"\")    #먹고 부분이 끝나고 난 후에 개행되지 않고 바로 붙여서 실행된다.\n",
    "print(a,b,c, sep =\"먹고 \",end = \"\\n\")  #먹고 부분이 끝나면 개행된다.\n",
    "print(a,b,c, sep =\"자고 \",end = \"\\n\")  "
   ]
  },
  {
   "cell_type": "code",
   "execution_count": 27,
   "id": "3d0eb851",
   "metadata": {},
   "outputs": [
    {
     "name": "stdout",
     "output_type": "stream",
     "text": [
      "22+33=55\n"
     ]
    }
   ],
   "source": [
    "a = 22        #a 변수에 22값을 넣는다.\n",
    "b = 33        #b 변수에 33값을 넣는다.\n",
    "print(a,b, sep=\"+\" ,end=\"=\")  #a,b 사이에 구분문자로 +를 넣어주고 마지막에는 =를 넣어준다.\n",
    "print(a+b)                    #a+b를 출력한다."
   ]
  },
  {
   "cell_type": "code",
   "execution_count": 31,
   "id": "89fbbe3c",
   "metadata": {},
   "outputs": [
    {
     "name": "stdout",
     "output_type": "stream",
     "text": [
      "너는 이름이 뭐니?김우현\n",
      "이름이  김우현 입니다.\n",
      "너는 몇 살이니?10\n",
      "나이가  10 살 입니다.\n"
     ]
    }
   ],
   "source": [
    "# var = intput(\"입력 전 출력내용\")\n",
    "a = input(\"너는 이름이 뭐니?\")\n",
    "print(\"이름이 \",a,\"입니다.\")\n",
    "b = input(\"너는 몇 살이니?\")\n",
    "print(\"나이가 \",b,\"살 입니다.\")"
   ]
  },
  {
   "cell_type": "code",
   "execution_count": 1,
   "id": "e3cca5cb",
   "metadata": {},
   "outputs": [
    {
     "name": "stdout",
     "output_type": "stream",
     "text": [
      "a값을 입력하세요?10\n",
      "b값을 입력하세요?10\n",
      "10+10=1010\n",
      "수치 계산:10+10=20\n"
     ]
    }
   ],
   "source": [
    "a = input(\"a값을 입력하세요?\")\n",
    "b = input(\"b값을 입력하세요?\")\n",
    "print(a,b,sep=\"+\",end=\"=\")\n",
    "print(a+b)                   #a값과 b값을 int로 바꾸지 않고 출력하면 문자로 취급해서 문자열로 출력된다.\n",
    "print(\"수치 계산\", end=\":\")\n",
    "print(a,b,sep=\"+\", end=\"=\")\n",
    "print(int(a) + int(b))       #아래와 같이 int로 각 변환해서 더해줘야 30으로 출력됨"
   ]
  },
  {
   "cell_type": "code",
   "execution_count": 2,
   "id": "bf12f765",
   "metadata": {},
   "outputs": [
    {
     "name": "stdout",
     "output_type": "stream",
     "text": [
      "품목?초코파이\n",
      "수량?10\n",
      "단가?1000\n",
      "초코파이  :  10 개 *  1000 원 = 총  10000 원\n"
     ]
    }
   ],
   "source": [
    "a = input(\"품목?\")                 #품목을 문자형으로 입력받음\n",
    "b = (int)(input(\"수량?\"))          #문자형으로 입력된 것을 int로 형변환\n",
    "c = (int)(input(\"단가?\"))          #문자형으로 입력된 것을 int로 형변환\n",
    "print(a, \" : \",b,\"개 * \",c,\"원 = 총 \",b*c, \"원\")"
   ]
  },
  {
   "cell_type": "code",
   "execution_count": 3,
   "id": "6be63098",
   "metadata": {},
   "outputs": [
    {
     "name": "stdout",
     "output_type": "stream",
     "text": [
      "1\n",
      "2\n",
      "3\n",
      "2\n"
     ]
    }
   ],
   "source": [
    "a = 1\n",
    "print(a)        #현재 a에 담긴 값은 위에서 정의한 1\n",
    "a = 2           #a=2로 바꿈\n",
    "print(a)        #출력하면 2 나온다.\n",
    "b = 3\n",
    "print(b)        #위에서 b=3으로 지정했음\n",
    "print(a)"
   ]
  },
  {
   "cell_type": "code",
   "execution_count": 4,
   "id": "9a517472",
   "metadata": {},
   "outputs": [
    {
     "name": "stdout",
     "output_type": "stream",
     "text": [
      "1122\n"
     ]
    },
    {
     "data": {
      "text/plain": [
       "int"
      ]
     },
     "execution_count": 4,
     "metadata": {},
     "output_type": "execute_result"
    }
   ],
   "source": [
    "#변수에 값을 지정할 때 형태가 지정된다(파이썬의 특징)\n",
    "a=1122; print(a); type(a)        "
   ]
  },
  {
   "cell_type": "code",
   "execution_count": 5,
   "id": "0561f752",
   "metadata": {},
   "outputs": [
    {
     "name": "stdout",
     "output_type": "stream",
     "text": [
      "hello\n"
     ]
    },
    {
     "data": {
      "text/plain": [
       "str"
      ]
     },
     "execution_count": 5,
     "metadata": {},
     "output_type": "execute_result"
    }
   ],
   "source": [
    "# b 변수에 문자열을 넣어주고 타입을 확인하면 str로 반환됨\n",
    "b = \"hello\"; print(b); type(b)"
   ]
  },
  {
   "cell_type": "code",
   "execution_count": 6,
   "id": "00087311",
   "metadata": {},
   "outputs": [
    {
     "data": {
      "text/plain": [
       "int"
      ]
     },
     "execution_count": 6,
     "metadata": {},
     "output_type": "execute_result"
    }
   ],
   "source": [
    "b = 12\n",
    "type(b)"
   ]
  },
  {
   "cell_type": "code",
   "execution_count": 9,
   "id": "18b1e154",
   "metadata": {},
   "outputs": [
    {
     "name": "stdout",
     "output_type": "stream",
     "text": [
      "1122\n",
      "11\n"
     ]
    },
    {
     "ename": "NameError",
     "evalue": "name 'a' is not defined",
     "output_type": "error",
     "traceback": [
      "\u001b[1;31m---------------------------------------------------------------------------\u001b[0m",
      "\u001b[1;31mNameError\u001b[0m                                 Traceback (most recent call last)",
      "Input \u001b[1;32mIn [9]\u001b[0m, in \u001b[0;36m<cell line: 4>\u001b[1;34m()\u001b[0m\n\u001b[0;32m      2\u001b[0m a\u001b[38;5;241m=\u001b[39m\u001b[38;5;241m11\u001b[39m; \u001b[38;5;28mprint\u001b[39m(a)\n\u001b[0;32m      3\u001b[0m \u001b[38;5;28;01mdel\u001b[39;00m a \n\u001b[1;32m----> 4\u001b[0m \u001b[38;5;28mprint\u001b[39m(\u001b[43ma\u001b[49m)\n",
      "\u001b[1;31mNameError\u001b[0m: name 'a' is not defined"
     ]
    }
   ],
   "source": [
    "#q변수를 더 이상 사용하지 않을 때 del로 변수의 메모리 공간을 반환해줄 수 있다.\n",
    "a=1122;print(a);type(a)\n",
    "a=11; print(a)\n",
    "del a \n",
    "print(a)"
   ]
  },
  {
   "cell_type": "code",
   "execution_count": null,
   "id": "f0c05787",
   "metadata": {},
   "outputs": [
    {
     "name": "stdout",
     "output_type": "stream",
     "text": [
      "\n",
      "Welcome to Python 3.8's help utility!\n",
      "\n",
      "If this is your first time using Python, you should definitely check out\n",
      "the tutorial on the Internet at https://docs.python.org/3.8/tutorial/.\n",
      "\n",
      "Enter the name of any module, keyword, or topic to get help on writing\n",
      "Python programs and using Python modules.  To quit this help utility and\n",
      "return to the interpreter, just type \"quit\".\n",
      "\n",
      "To get a list of available modules, keywords, symbols, or topics, type\n",
      "\"modules\", \"keywords\", \"symbols\", or \"topics\".  Each module also comes\n",
      "with a one-line summary of what it does; to list the modules whose name\n",
      "or summary contain a given string such as \"spam\", type \"modules spam\".\n",
      "\n",
      "help> keywords\n",
      "\n",
      "Here is a list of the Python keywords.  Enter any keyword to get more help.\n",
      "\n",
      "False               class               from                or\n",
      "None                continue            global              pass\n",
      "True                def                 if                  raise\n",
      "and                 del                 import              return\n",
      "as                  elif                in                  try\n",
      "assert              else                is                  while\n",
      "async               except              lambda              with\n",
      "await               finally             nonlocal            yield\n",
      "break               for                 not                 \n",
      "\n"
     ]
    }
   ],
   "source": [
    "#변수의 이름을 붙이는 데 일정한 규칙이 있음\n",
    "#파이썬에서 사용하는 단어는 변수명으로 사용할 수 없다.\n",
    "help()"
   ]
  },
  {
   "cell_type": "code",
   "execution_count": 11,
   "id": "0e6bdb5b",
   "metadata": {},
   "outputs": [
    {
     "name": "stdout",
     "output_type": "stream",
     "text": [
      "100000\n",
      "100000\n"
     ]
    }
   ],
   "source": [
    "#변수의 명명법\n",
    "net = 100; qty =1000; total = net * qty ; print(total)      #변수명을 알기 쉽게 작성\n",
    "단가 = 100; 수량 = 1000; 총합 = 단가 * 수량; print(총합)    #관습적으로 이렇게 사용하진 않음"
   ]
  }
 ],
 "metadata": {
  "kernelspec": {
   "display_name": "Python 3 (ipykernel)",
   "language": "python",
   "name": "python3"
  },
  "language_info": {
   "codemirror_mode": {
    "name": "ipython",
    "version": 3
   },
   "file_extension": ".py",
   "mimetype": "text/x-python",
   "name": "python",
   "nbconvert_exporter": "python",
   "pygments_lexer": "ipython3",
   "version": "3.8.8rc1"
  }
 },
 "nbformat": 4,
 "nbformat_minor": 5
}
