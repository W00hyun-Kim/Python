{
 "cells": [
  {
   "cell_type": "code",
   "execution_count": 2,
   "id": "2bdf2817",
   "metadata": {},
   "outputs": [
    {
     "data": {
      "text/plain": [
       "('a', 'b', 'c', 'd', 'e')"
      ]
     },
     "execution_count": 2,
     "metadata": {},
     "output_type": "execute_result"
    }
   ],
   "source": [
    "#문자열의 성격\n",
    "#1. 문자형 변수의 성격은 컬렉션 리스트와 유사함\n",
    "#2. 문자리스트, 즉 String은 인덱스로 대응됨\n",
    "#3. 한글은 2byte처리, 문자열에서 1개의 첨자에 대응됨\n",
    "\n",
    "a=\"abcde\"\n",
    "a[0],a[1],a[2],a[3],a[4]"
   ]
  },
  {
   "cell_type": "code",
   "execution_count": 3,
   "id": "97b18de8",
   "metadata": {},
   "outputs": [
    {
     "data": {
      "text/plain": [
       "('e', 'c', 'c', 'b', 'a')"
      ]
     },
     "execution_count": 3,
     "metadata": {},
     "output_type": "execute_result"
    }
   ],
   "source": [
    "a[-1],a[2],a[-3],a[-4],a[-5]"
   ]
  },
  {
   "cell_type": "code",
   "execution_count": 4,
   "id": "a82e0312",
   "metadata": {},
   "outputs": [
    {
     "data": {
      "text/plain": [
       "('가', '나', '다', '라', '마')"
      ]
     },
     "execution_count": 4,
     "metadata": {},
     "output_type": "execute_result"
    }
   ],
   "source": [
    "a=\"가나다라마\"\n",
    "a[0],a[1],a[2],a[3],a[4]"
   ]
  },
  {
   "cell_type": "code",
   "execution_count": 6,
   "id": "c75fd3b4",
   "metadata": {},
   "outputs": [
    {
     "data": {
      "text/plain": [
       "'bcde'"
      ]
     },
     "execution_count": 6,
     "metadata": {},
     "output_type": "execute_result"
    }
   ],
   "source": [
    "#문자열 자르기\n",
    "#문자 첨자 처리시 [시작:끝]으로 표시가능 (끝은 포함되지 X)\n",
    "#음수 첨자에 유의\n",
    "\n",
    "a=\"abcde\"\n",
    "a[1:5]"
   ]
  },
  {
   "cell_type": "code",
   "execution_count": 7,
   "id": "9576f77c",
   "metadata": {},
   "outputs": [
    {
     "data": {
      "text/plain": [
       "'b'"
      ]
     },
     "execution_count": 7,
     "metadata": {},
     "output_type": "execute_result"
    }
   ],
   "source": [
    "a[1:2]"
   ]
  },
  {
   "cell_type": "code",
   "execution_count": 8,
   "id": "bde390f1",
   "metadata": {},
   "outputs": [
    {
     "data": {
      "text/plain": [
       "'abcde'"
      ]
     },
     "execution_count": 8,
     "metadata": {},
     "output_type": "execute_result"
    }
   ],
   "source": [
    "a[:6]   #처음부터 5까지"
   ]
  },
  {
   "cell_type": "code",
   "execution_count": 10,
   "id": "70fa1f49",
   "metadata": {},
   "outputs": [
    {
     "data": {
      "text/plain": [
       "'de'"
      ]
     },
     "execution_count": 10,
     "metadata": {},
     "output_type": "execute_result"
    }
   ],
   "source": [
    "a[3:]   #3부터 끝까지"
   ]
  },
  {
   "cell_type": "code",
   "execution_count": 11,
   "id": "160111bf",
   "metadata": {},
   "outputs": [
    {
     "data": {
      "text/plain": [
       "'c'"
      ]
     },
     "execution_count": 11,
     "metadata": {},
     "output_type": "execute_result"
    }
   ],
   "source": [
    "a[2:-2] #-2는 포함되지 않음"
   ]
  },
  {
   "cell_type": "code",
   "execution_count": 12,
   "id": "22b046e0",
   "metadata": {},
   "outputs": [
    {
     "data": {
      "text/plain": [
       "''"
      ]
     },
     "execution_count": 12,
     "metadata": {},
     "output_type": "execute_result"
    }
   ],
   "source": [
    "a[2:-3] "
   ]
  },
  {
   "cell_type": "code",
   "execution_count": 13,
   "id": "b1ea4d8e",
   "metadata": {},
   "outputs": [
    {
     "data": {
      "text/plain": [
       "'bcd'"
      ]
     },
     "execution_count": 13,
     "metadata": {},
     "output_type": "execute_result"
    }
   ],
   "source": [
    "a[1:-1]"
   ]
  },
  {
   "cell_type": "code",
   "execution_count": 19,
   "id": "a935ec1b",
   "metadata": {},
   "outputs": [
    {
     "data": {
      "text/plain": [
       "5"
      ]
     },
     "execution_count": 19,
     "metadata": {},
     "output_type": "execute_result"
    }
   ],
   "source": [
    "#문자열 함수\n",
    "# lan(문자열) ==> 문자열의 길이 반환\n",
    "# str.find(문자)==> 해당 문자를 앞에서부터 찾아서 위치 반환\n",
    "# str.rfind(문자) ==> 해당 문자를 뒤에서부터 찾아서 위치 반환\n",
    "# str.index(문자), str.rindex(문자) ==> 위와 동일하나,문자열못찾으면 에러 발생\n",
    "# str.count(문자) ==> 해당 문자가 몇개 있는지 개수 반환\n",
    "\n",
    "a = \"abcdefghijklmnopqrstuvwxy\"  #앞에서부터 찾음, 찾은 값의 인덱스값 반환\n",
    "a.find(\"f\")"
   ]
  },
  {
   "cell_type": "code",
   "execution_count": 20,
   "id": "8dd2ec23",
   "metadata": {},
   "outputs": [
    {
     "data": {
      "text/plain": [
       "(8, 8)"
      ]
     },
     "execution_count": 20,
     "metadata": {},
     "output_type": "execute_result"
    }
   ],
   "source": [
    "a.find(\"i\"), a.rfind(\"i\")  #만일 찾는 문자가 하나라면 결과는 동일"
   ]
  },
  {
   "cell_type": "code",
   "execution_count": 17,
   "id": "3f8506dd",
   "metadata": {},
   "outputs": [
    {
     "data": {
      "text/plain": [
       "(1, 1)"
      ]
     },
     "execution_count": 17,
     "metadata": {},
     "output_type": "execute_result"
    }
   ],
   "source": [
    "a.index(\"b\"),a.rindex(\"b\")  #인덱스 함수도 결과는 동일하다"
   ]
  },
  {
   "cell_type": "code",
   "execution_count": 1,
   "id": "80253def",
   "metadata": {},
   "outputs": [
    {
     "ename": "NameError",
     "evalue": "name 'a' is not defined",
     "output_type": "error",
     "traceback": [
      "\u001b[1;31m---------------------------------------------------------------------------\u001b[0m",
      "\u001b[1;31mNameError\u001b[0m                                 Traceback (most recent call last)",
      "Input \u001b[1;32mIn [1]\u001b[0m, in \u001b[0;36m<cell line: 1>\u001b[1;34m()\u001b[0m\n\u001b[1;32m----> 1\u001b[0m \u001b[43ma\u001b[49m\u001b[38;5;241m.\u001b[39mrindex(\u001b[38;5;124m\"\u001b[39m\u001b[38;5;124mz\u001b[39m\u001b[38;5;124m\"\u001b[39m)\n",
      "\u001b[1;31mNameError\u001b[0m: name 'a' is not defined"
     ]
    }
   ],
   "source": [
    "a.rindex(\"z\")   #rindex의 경우 문자열 못찾으면 에러 발생"
   ]
  },
  {
   "cell_type": "code",
   "execution_count": 3,
   "id": "44948700",
   "metadata": {},
   "outputs": [
    {
     "data": {
      "text/plain": [
       "1"
      ]
     },
     "execution_count": 3,
     "metadata": {},
     "output_type": "execute_result"
    }
   ],
   "source": [
    "a = \"abcdefghijklmnopqrstuvwxy\"\n",
    "a.count(\"f\")   #해당 문자의 개수를 반환"
   ]
  },
  {
   "cell_type": "code",
   "execution_count": 4,
   "id": "d5711c87",
   "metadata": {},
   "outputs": [
    {
     "data": {
      "text/plain": [
       "0"
      ]
     },
     "execution_count": 4,
     "metadata": {},
     "output_type": "execute_result"
    }
   ],
   "source": [
    "a.rfind(\"abc\")   #문자열을 넣어도 됨"
   ]
  },
  {
   "cell_type": "code",
   "execution_count": 5,
   "id": "3052926f",
   "metadata": {},
   "outputs": [
    {
     "name": "stdout",
     "output_type": "stream",
     "text": [
      "a가 들어 있음\n"
     ]
    }
   ],
   "source": [
    "#검사\n",
    "#포함문자 in 문자 ==> 해당 문자를 가지고 있는 지 검사함\n",
    "\n",
    "a =\"abcdefofogegg\"\n",
    "if a.find(\"f\") > 0 :\n",
    "    print(\"f가 들어 있음\")"
   ]
  },
  {
   "cell_type": "code",
   "execution_count": 6,
   "id": "632b5afd",
   "metadata": {},
   "outputs": [
    {
     "name": "stdout",
     "output_type": "stream",
     "text": [
      "f가 들어 있음\n"
     ]
    }
   ],
   "source": [
    "if \"f\" in a :\n",
    "    print(\"f가 들어 있음\")"
   ]
  },
  {
   "cell_type": "code",
   "execution_count": 7,
   "id": "f5ac5ba9",
   "metadata": {},
   "outputs": [
    {
     "data": {
      "text/plain": [
       "'ABCDEFGH'"
      ]
     },
     "execution_count": 7,
     "metadata": {},
     "output_type": "execute_result"
    }
   ],
   "source": [
    "#대소문자 바꾸기\n",
    "#str.upper() ==> 문자열을 모두 대문자로 바꿈\n",
    "#str.lower() ==> 문자열을 모두 소문자로 바꿈\n",
    "\n",
    "a = \"abcDefGh\"\n",
    "a.upper()"
   ]
  },
  {
   "cell_type": "code",
   "execution_count": 8,
   "id": "efe14710",
   "metadata": {},
   "outputs": [
    {
     "data": {
      "text/plain": [
       "'abcdefgh'"
      ]
     },
     "execution_count": 8,
     "metadata": {},
     "output_type": "execute_result"
    }
   ],
   "source": [
    "a = \"abcDefGh\"\n",
    "a.lower()"
   ]
  },
  {
   "cell_type": "code",
   "execution_count": 9,
   "id": "46a62574",
   "metadata": {},
   "outputs": [
    {
     "data": {
      "text/plain": [
       "'abc    def   hij'"
      ]
     },
     "execution_count": 9,
     "metadata": {},
     "output_type": "execute_result"
    }
   ],
   "source": [
    "#공백제거\n",
    "#str.lstrip() ==> 문자열 왼쪽 끝의 모든 공백 지움\n",
    "#str.rstrip() ==> 문자열 오른쪽 끝의 모든 공백 지움\n",
    "#str.strip() ==> 문자열 왼쪽 끝과 오른 쪽 끝의 모든 공백을 지움\n",
    "#str.replace(\" \",\"\") ==> 모든 공백을 지움\n",
    "#str.replace(이전문자열,바꿀문자열) ==> 이전 문자열을 바꿀 문자열로 바꿈\n",
    "\n",
    "a =\"    abc    def   hij         \"\n",
    "a.lstrip()           #앞의 공백을 지움"
   ]
  },
  {
   "cell_type": "code",
   "execution_count": 10,
   "id": "b5010a72",
   "metadata": {},
   "outputs": [
    {
     "data": {
      "text/plain": [
       "'    abc    def   hij'"
      ]
     },
     "execution_count": 10,
     "metadata": {},
     "output_type": "execute_result"
    }
   ],
   "source": [
    "a =\"    abc    def   hij         \"\n",
    "a.rstrip()         # 오른쪽 끝의 공백을 지움"
   ]
  },
  {
   "cell_type": "code",
   "execution_count": 11,
   "id": "60475cb9",
   "metadata": {},
   "outputs": [
    {
     "data": {
      "text/plain": [
       "'abc    def   hij'"
      ]
     },
     "execution_count": 11,
     "metadata": {},
     "output_type": "execute_result"
    }
   ],
   "source": [
    "a =\"    abc    def   hij         \"\n",
    "a.strip()           #왼쪽과 오른쪽 끝 공백을 전부 지움"
   ]
  },
  {
   "cell_type": "code",
   "execution_count": 12,
   "id": "d075b3ab",
   "metadata": {},
   "outputs": [
    {
     "data": {
      "text/plain": [
       "'abcdefhij'"
      ]
     },
     "execution_count": 12,
     "metadata": {},
     "output_type": "execute_result"
    }
   ],
   "source": [
    "a =\"    abc    def   hij         \"\n",
    "a.replace(\" \",\"\")     #공백을 전부 지움"
   ]
  },
  {
   "cell_type": "code",
   "execution_count": 14,
   "id": "1693c4d5",
   "metadata": {},
   "outputs": [
    {
     "name": "stdout",
     "output_type": "stream",
     "text": [
      "==========\n",
      "이름:  홍길동\n",
      "국어:  100\n",
      "영어:  95\n",
      "수학:  88\n",
      "==========\n"
     ]
    }
   ],
   "source": [
    "#구분자로 문자열 나누기 1\n",
    "# a=str.split(구분자) ==> str의 문자열을 구분자 문자를 찾아서 하나씩 나눠 리스트 반환\n",
    "\n",
    "rec = \"홍길동,100,95,88\"\n",
    "item = rec.split(\",\")  # 컴마(,)를 기준으로 잘라서 item리스트에 담았음\n",
    "print(\"=\"*10)\n",
    "print(\"이름: \",item[0])\n",
    "print(\"국어: \",item[1])\n",
    "print(\"영어: \",item[2])\n",
    "print(\"수학: \",item[3])\n",
    "print(\"=\"*10)"
   ]
  },
  {
   "cell_type": "code",
   "execution_count": 15,
   "id": "c0bb249a",
   "metadata": {},
   "outputs": [
    {
     "name": "stdout",
     "output_type": "stream",
     "text": [
      "==========\n",
      "0 ==> 본\n",
      "1 ==> 예제는\n",
      "2 ==> 빈칸으로\n",
      "3 ==> 구분되어\n",
      "4 ==> 있는\n",
      "5 ==> 한\n",
      "6 ==> 줄의\n",
      "7 ==> 데이터를\n",
      "8 ==> 빈칸을\n",
      "9 ==> \n",
      "10 ==> \n",
      "11 ==> \n",
      "12 ==> \n",
      "13 ==> 구분하여\n",
      "14 ==> 나누어\n",
      "15 ==> 줌\n",
      "==========\n"
     ]
    }
   ],
   "source": [
    "#구분자로 문자열 나누기 2\n",
    "rec = \"본 예제는 빈칸으로 구분되어 있는 한 줄의 데이터를 빈칸을     구분하여 나누어 줌\"\n",
    "item = rec.split(\" \")    #빈칸을 기준으로 split 하여 item리스트에 담음\n",
    "\n",
    "print(\"=\"*10)\n",
    "i=0\n",
    "for s in item:\n",
    "    print(i, \"==>\", s)\n",
    "    i+=1\n",
    "print(\"=\"*10)"
   ]
  },
  {
   "cell_type": "code",
   "execution_count": 16,
   "id": "d211d6ee",
   "metadata": {},
   "outputs": [
    {
     "name": "stdout",
     "output_type": "stream",
     "text": [
      "[['나연', 100, 90, 100], ['정연', 90, 90, 100], ['모모', 80, 70, 90], ['사나', 90, 90, 80], ['지효', 100, 80, 80], ['미나', 50, 90, 90], ['다현', 80, 60, 100], ['다현', 80, 60, 100], ['채영', 70, 80, 90], ['쯔위', 100, 90, 90]]\n"
     ]
    }
   ],
   "source": [
    "#구분자 연습 1\n",
    "\n",
    "dili_score = [\"나연,100,90,100\",\n",
    "              \"정연,90,90,100\",\n",
    "              \"모모,80,70,90\",\n",
    "              \"사나,90,90,80\",\n",
    "              \"지효,100,80,80\",\n",
    "              \"미나,50,90,90\",\n",
    "              \"다현,80,60,100\",\n",
    "              \"다현,80,60,100\",\n",
    "              \"채영,70,80,90\",\n",
    "              \"쯔위,100,90,90\"]\n",
    "    \n",
    "score = []\n",
    "for one_rec in dili_score:\n",
    "    one_score = one_rec.split(\",\")\n",
    "    one_score[1] = int(one_score[1])  #국어 점수 숫자형 변환\n",
    "    one_score[2] = int(one_score[2])  #영어 점수 숫자형 변환\n",
    "    one_score[3] = int(one_score[3])  #수학 점수 숫자형 변환\n",
    "    score.append(one_score.copy())    #copy에 주의할 것...값 복사\n",
    "\n",
    "print(score)"
   ]
  },
  {
   "cell_type": "code",
   "execution_count": 32,
   "id": "635d3526",
   "metadata": {},
   "outputs": [
    {
     "name": "stdout",
     "output_type": "stream",
     "text": [
      "case 1\n",
      "품목: 오징어땅콩  단가: 1000 원 수량: 10 개 합계: 10000 원\n",
      "case 2\n",
      "품목:오징어땅콩 단가:1000원 수량:10개 합계:10000원\n",
      "case 3\n",
      "품목:오징어땅콩 단가: 1000원 수량:10개 합계:10000원\n"
     ]
    }
   ],
   "source": [
    "#포멧팅 예제 1\n",
    "#출력 형식을 지시하여 출력하는 방식\n",
    "\n",
    "item = \"오징어땅콩\"    #품목\n",
    "unit = 1000            #단가\n",
    "qty = 10               #수량\n",
    "tot = unit*qty         #합계\n",
    "\n",
    "print(\"case 1\")  #지금까지 사용한 print 방법 (칸 띄어 출력)\n",
    "print(\"품목:\",item,\" 단가:\",unit,\"원 수량:\",qty,\"개 합계:\",tot,\"원\")\n",
    "\n",
    "print(\"case 2\")  #하나의 긴 문자열을 만들어 출력하면 공백없이 출력 가능\n",
    "print(\"품목:\"+item+\" 단가:\"+str(unit)+\"원 수량:\"+str(qty)+\"개 합계:\"+str(tot)+\"원\")\n",
    "\n",
    "print(\"case 3\")  #포멧 문자를 지정하여 원하는 포멧으로 출력이 가능 \n",
    "print(\"품목:%s 단가: %d원 수량:%d개 합계:%d원\"%(item,unit,qty,tot))\n",
    "\n",
    "# print(\"case 4\")\n",
    "# print(\"품목:%-10s 단가: %05d원 수량:0x%#x개\n",
    "#       합계:%10.3f원\"%(item,unit,qty,tot))"
   ]
  },
  {
   "cell_type": "code",
   "execution_count": 34,
   "id": "658c4c16",
   "metadata": {
    "scrolled": true
   },
   "outputs": [
    {
     "name": "stdout",
     "output_type": "stream",
     "text": [
      "[ 1000][1000 ][01000]\n",
      "[   땅콩][땅콩   ][   땅콩]\n",
      "[1000]=[3e8][0x3e8][1750]\n",
      "[ 1000%]\n",
      "[a][b][c]\n"
     ]
    }
   ],
   "source": [
    "#포멧팅 예제 2\n",
    "item = \"땅콩\"\n",
    "unit = 1000\n",
    "\n",
    "print(\"[%5d][%-5d][%05d]\"%(unit,unit,unit))\n",
    "print(\"[%5s][%-5s][%05s]\"%(item,item,item))\n",
    "print(\"[%d]=[%x][%#x][%o]\"%(unit,unit,unit,unit))\n",
    "print(\"[%5d%%]\"%unit)\n",
    "\n",
    "#한글은 1byte로 자르면 에러\n",
    "# print(\"[%c][%c][%c]\"%(unit[0],unit[1]))\n",
    "a= \"abcd\"\n",
    "print(\"[%c][%c][%c]\"%(a[0],a[1],a[2]))"
   ]
  },
  {
   "cell_type": "code",
   "execution_count": 35,
   "id": "40e81937",
   "metadata": {},
   "outputs": [
    {
     "name": "stdout",
     "output_type": "stream",
     "text": [
      "-123,456,789.123\n"
     ]
    }
   ],
   "source": [
    "#숫자에 콤마 찍기\n",
    "import locale      #locale 라이브러리를 import\n",
    "locale.setlocale(locale.LC_ALL,\"\")   #시스템 기본 로케일 사용\n",
    "n = -123456789.123\n",
    "s = locale.format_string(\"%.3f\",n,1)\n",
    "print(s)"
   ]
  },
  {
   "cell_type": "code",
   "execution_count": 45,
   "id": "ad435ea3",
   "metadata": {},
   "outputs": [
    {
     "name": "stdout",
     "output_type": "stream",
     "text": [
      "**************************************************\n",
      "총금액:    1,000,000원 \t 달러환율 : $1,010       \n",
      "지급달러: $988         \n",
      "거스름돈:      5원 \t은행수수료:  1,996원\n"
     ]
    }
   ],
   "source": [
    "#포멧팅실습(환전문제)\n",
    "import locale      #locale 라이브러리를 import\n",
    "locale.setlocale(locale.LC_ALL,\"\")   #시스템 기본 로케일 사용\n",
    "\n",
    "myWon = 1000000                     #100a만원\n",
    "moneyEx = 1010.12                   #달러환율\n",
    "commision_rate = 0.002              #은행 수수료율\n",
    "onePer = moneyEx + moneyEx*commision_rate #1달러당 환율금액과 해당금액에 대한 수수료\n",
    "usd = int(myWon/OnePer) #나의 돈을 위의 금액을 나누면 소수점, 해당 소수점 아래 버림처리\n",
    "\n",
    "remain = int(myWon - usd* onePer) #거스름돈 = 내돈 - 달러액(환율+달러당수수료)\n",
    "commision = usd * moneyEx * commision_rate #환전 수수료 총액 달러*환율*수수료율\n",
    "#올림처리하기(은행은 손해보면 안됨)\n",
    "if(commision!=float(int(commision))) :\n",
    "    commision = int(commision) + 1\n",
    "else :\n",
    "    commision = int(commision)\n",
    "    \n",
    "#포멧에 맞춰서 출력하기\n",
    "print(\"*\"*50)\n",
    "print(\"총금액: %s원 \\t 달러환율 : $%s\"%( \\\n",
    "        locale.format_string(\"%12d\",myWon,1), \\\n",
    "        locale.format_string(\"%-12d\",moneyEx,1)) )\n",
    "\n",
    "print(\"지급달러: $%s\"% locale.format_string(\"%-12d\", usd, 1))\n",
    "print(\"거스름돈: %s원 \\t은행수수료: %s원\"%( \\\n",
    "        locale.format_string(\"%6d\",remain,1), \\\n",
    "        locale.format_string(\"%6d\", commision,1)) )\n",
    "print(\"*\"*50)"
   ]
  },
  {
   "cell_type": "code",
   "execution_count": null,
   "id": "f79ae6c5",
   "metadata": {},
   "outputs": [],
   "source": []
  }
 ],
 "metadata": {
  "kernelspec": {
   "display_name": "Python 3 (ipykernel)",
   "language": "python",
   "name": "python3"
  },
  "language_info": {
   "codemirror_mode": {
    "name": "ipython",
    "version": 3
   },
   "file_extension": ".py",
   "mimetype": "text/x-python",
   "name": "python",
   "nbconvert_exporter": "python",
   "pygments_lexer": "ipython3",
   "version": "3.8.8rc1"
  }
 },
 "nbformat": 4,
 "nbformat_minor": 5
}
