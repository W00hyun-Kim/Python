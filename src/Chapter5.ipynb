{
 "cells": [
  {
   "cell_type": "code",
   "execution_count": 3,
   "id": "9194ce2c",
   "metadata": {},
   "outputs": [
    {
     "name": "stdout",
     "output_type": "stream",
     "text": [
      "이름이 뭐니?김우현\n",
      "주인님 어서오십셔\n"
     ]
    }
   ],
   "source": [
    "#간단한 if 조건문 실습 1(if)\n",
    "name  = input(\"이름이 뭐니?\")\n",
    "if name == \"김우현\" :\n",
    "    print(\"주인님 어서오십셔\")"
   ]
  },
  {
   "cell_type": "code",
   "execution_count": 4,
   "id": "59e1f133",
   "metadata": {},
   "outputs": [
    {
     "name": "stdout",
     "output_type": "stream",
     "text": [
      "성별이 무엇인가요?여자\n",
      "예뻐요\n"
     ]
    }
   ],
   "source": [
    "# 간단한 if조건문 실습2 (if-else)\n",
    "name = input(\"성별이 무엇인가요?\")\n",
    "if name == \"남자\" :\n",
    "    print(\"멋져요\")\n",
    "else :\n",
    "    print(\"예뻐요\")"
   ]
  },
  {
   "cell_type": "code",
   "execution_count": 5,
   "id": "c4a0dfed",
   "metadata": {},
   "outputs": [
    {
     "name": "stdout",
     "output_type": "stream",
     "text": [
      "얼마를 구매하셨나요?500\n",
      "면세입니다.\n"
     ]
    }
   ],
   "source": [
    "# 간단한 if조건문 실습3 (수치비교)\n",
    "price = int(input(\"얼마를 구매하셨나요?\"))\n",
    "if price < 10000 :\n",
    "    print(\"면세입니다.\")\n",
    "else :\n",
    "    print(\"세금은 10%입니다.\")"
   ]
  },
  {
   "cell_type": "code",
   "execution_count": 6,
   "id": "4e3ae27b",
   "metadata": {},
   "outputs": [
    {
     "name": "stdout",
     "output_type": "stream",
     "text": [
      "a는 100입니다.\n"
     ]
    }
   ],
   "source": [
    "#간단한 비교 연산자 실습1 (수치비교)\n",
    "a = 100\n",
    "if(a==99) : print(\"a는 99입니다.\")\n",
    "if(a==100) : print(\"a는 100입니다.\")"
   ]
  },
  {
   "cell_type": "code",
   "execution_count": 3,
   "id": "6eaeeda8",
   "metadata": {},
   "outputs": [
    {
     "name": "stdout",
     "output_type": "stream",
     "text": [
      "a는 100이상입니다.\n"
     ]
    }
   ],
   "source": [
    "a = 100\n",
    "if(a>=100) : print(\"a는 100이상입니다.\")\n",
    "if(a<100) : print(\"a는 100미만입니다.\")"
   ]
  },
  {
   "cell_type": "code",
   "execution_count": 4,
   "id": "a53d7842",
   "metadata": {},
   "outputs": [
    {
     "name": "stdout",
     "output_type": "stream",
     "text": [
      "abc 이다\n"
     ]
    }
   ],
   "source": [
    "#간단한 비교 연산자 실습1 (문자비교)\n",
    "a = \"abc\"\n",
    "if(a == \"abc\") : print(\"abc 이다\")"
   ]
  },
  {
   "cell_type": "code",
   "execution_count": 6,
   "id": "0a3b760f",
   "metadata": {},
   "outputs": [],
   "source": [
    "a = \"abc\"\n",
    "if(a > \"abc\") : print(\"abc 보다 큰 문자이다\")"
   ]
  },
  {
   "cell_type": "code",
   "execution_count": 7,
   "id": "53037e68",
   "metadata": {},
   "outputs": [
    {
     "name": "stdout",
     "output_type": "stream",
     "text": [
      "abc 보다 큰 문자이다\n"
     ]
    }
   ],
   "source": [
    "a = \"abd\"\n",
    "if(a > \"abc\") : print(\"abc 보다 큰 문자이다\")"
   ]
  },
  {
   "cell_type": "code",
   "execution_count": 8,
   "id": "697922b9",
   "metadata": {},
   "outputs": [],
   "source": [
    "a = \"abb\"\n",
    "if(a > \"abc\") : print(\"abc 보다 큰 문자이다\")"
   ]
  },
  {
   "cell_type": "code",
   "execution_count": 9,
   "id": "d8ca7593",
   "metadata": {},
   "outputs": [
    {
     "name": "stdout",
     "output_type": "stream",
     "text": [
      "점수를 입력하세요.98\n",
      "학점은 A 입니다. \n"
     ]
    }
   ],
   "source": [
    "# 논리 연산자를 이용한 학점 판단\n",
    "x = int(input(\"점수를 입력하세요.\"))\n",
    "if 0 <= x and x < 60 : print(\"학점은 F 입니다. \")\n",
    "if 60 <= x and x < 70 : print(\"학점은 D 입니다. \")\n",
    "if 70 <= x and x < 80 : print(\"학점은 C 입니다. \")\n",
    "if 80 <= x and x < 90 : print(\"학점은 B 입니다. \")\n",
    "if 90 <= x and x < 100 : print(\"학점은 A 입니다. \")"
   ]
  },
  {
   "cell_type": "code",
   "execution_count": 10,
   "id": "46ad39cc",
   "metadata": {},
   "outputs": [
    {
     "name": "stdout",
     "output_type": "stream",
     "text": [
      "영문 알파벳 한글자를 입력하세요.f\n",
      "소문자 입니다.\n"
     ]
    }
   ],
   "source": [
    "# 논리 연산자를 이용한 문자열 비교\n",
    "x = input(\"영문 알파벳 한글자를 입력하세요.\")\n",
    "if \"a\" <= x and x <= \"z\" : print(\"소문자 입니다.\")\n",
    "if \"A\" <= x and x <= \"Z\" : print(\"대문자 입니다.\")"
   ]
  },
  {
   "cell_type": "code",
   "execution_count": 11,
   "id": "1523615d",
   "metadata": {},
   "outputs": [
    {
     "ename": "IndentationError",
     "evalue": "unexpected indent (830233985.py, line 5)",
     "output_type": "error",
     "traceback": [
      "\u001b[1;36m  Input \u001b[1;32mIn [11]\u001b[1;36m\u001b[0m\n\u001b[1;33m    a = a - 50\u001b[0m\n\u001b[1;37m    ^\u001b[0m\n\u001b[1;31mIndentationError\u001b[0m\u001b[1;31m:\u001b[0m unexpected indent\n"
     ]
    }
   ],
   "source": [
    "#블록구조\n",
    "a = 100\n",
    "if a>50 :\n",
    "    print(\"50보다 큰 수는 50을 뺄게요\")\n",
    "        a = a - 50          #이 라인에서 띄어쓰기를 하면 안된다. "
   ]
  },
  {
   "cell_type": "code",
   "execution_count": 12,
   "id": "d0524351",
   "metadata": {},
   "outputs": [
    {
     "name": "stdout",
     "output_type": "stream",
     "text": [
      "50보다 큰 수는 50을 뺄게요\n"
     ]
    }
   ],
   "source": [
    "a = 100\n",
    "if a>50 :\n",
    "    print(\"50보다 큰 수는 50을 뺄게요\")\n",
    "    a = a - 50"
   ]
  },
  {
   "cell_type": "code",
   "execution_count": 13,
   "id": "09fba590",
   "metadata": {},
   "outputs": [
    {
     "name": "stdout",
     "output_type": "stream",
     "text": [
      "50\n"
     ]
    }
   ],
   "source": [
    "print(a)"
   ]
  },
  {
   "cell_type": "code",
   "execution_count": 14,
   "id": "810423dc",
   "metadata": {},
   "outputs": [
    {
     "name": "stdout",
     "output_type": "stream",
     "text": [
      "점수를 입력하세요.(0~100)98\n",
      "학점은 A입니다\n"
     ]
    }
   ],
   "source": [
    "# elif문을 사용한 학점 계산\n",
    "x = int(input(\"점수를 입력하세요.(0~100)\"))\n",
    "if x >= 90 : print (\"학점은 A입니다\")\n",
    "elif x >= 80 : print (\"학점은 B입니다\")    #else if \n",
    "elif x >= 70 : print (\"학점은 C입니다\")\n",
    "elif x >= 60 : print (\"학점은 D입니다\")\n",
    "else : print (\"학점은 F입니다\")"
   ]
  },
  {
   "cell_type": "code",
   "execution_count": 15,
   "id": "db1f6d54",
   "metadata": {},
   "outputs": [
    {
     "name": "stdout",
     "output_type": "stream",
     "text": [
      "숫자를 입력하세요.99\n",
      "3의 배수인 홀수 입니다\n"
     ]
    }
   ],
   "source": [
    "# 중첩 if문 예제\n",
    "x = int(input(\"숫자를 입력하세요.\"))\n",
    "if x % 2 == 0 :               #2의 배수를 먼저 거르고\n",
    "    if x % 4 ==0 :            #조건에 만족하는 수 중에서 4의 배수를 거름\n",
    "        print(\"4의 배수인 짝수입니다(당연히 짝수)\")\n",
    "    else :\n",
    "        print(\"4의 배수가 아닌 짝수입니다\");\n",
    "elif x % 3 == 0 :\n",
    "    print(\"3의 배수인 홀수 입니다\")\n",
    "else :\n",
    "    print (\"3의 배수가 아닌 홀수입니다\")"
   ]
  },
  {
   "cell_type": "code",
   "execution_count": 26,
   "id": "745dfeb4",
   "metadata": {},
   "outputs": [
    {
     "name": "stdout",
     "output_type": "stream",
     "text": [
      "★★★★★★★★★★★★★★★★★★★★\n",
      "총금액: 1000000 원  달러환율: 1010.12 $\n",
      "지급달러: 988 $\n",
      "거스름돈: 5 원 은행수수료: 1996 원\n",
      "★★★★★★★★★★★★★★★★★★★★\n"
     ]
    }
   ],
   "source": [
    "#심화실습(환전문제)\n",
    "myWon = 1000000      #내가 바꿀 한국 돈\n",
    "exRate = 1010.12     #환율\n",
    "comRate = 0.002      #은행 수수료 비율\n",
    "\n",
    "usd = (int)(myWon / exRate)            #(수수료비포함)지급달러\n",
    "remain = (int)(myWon-usd * exRate)     #(수수료비포함)미화로 바꾸고 남는 돈\n",
    "comPerOne = (exRate * comRate)         #1달러당 수수료 = 환율*수수료비율\n",
    "comTotal = comPerOne * usd             #(수수로 비포함)전체수수료 = 1달러당 수수료 * 바꿀 수 있는 미화\n",
    "usd = (int)(myWon/(exRate + comPerOne))#수수료 포함하여 다시 계산\n",
    "                                       #바꿀 미화 = 내돈/(환율 + 1달러당 수수료)\n",
    "comTotal = usd * comPerOne             #전체 수수료 = 1달러당 수수료 * 지급달러\n",
    "                                       #은행수수료 1995.997120000002나옴\n",
    "                                       #은행은 손해안보기 위해 올림처리함\n",
    "#전체수수료 올림처리\n",
    "if comTotal != ((int)(comTotal))  :\n",
    "    up_comTotal = (int)(comTotal) + 1\n",
    "else :\n",
    "    up_comTotal = (int)(comTotal)\n",
    "\n",
    "remain = (int)(myWon-usd*exRate-up_comTotal)\n",
    "\n",
    "print(\"★★★★★★★★★★★★★★★★★★★★\")\n",
    "print(\"총금액:\",myWon, \"원\", \" 달러환율:\", exRate,\"$\")\n",
    "print(\"지급달러:\",usd,\"$\",)\n",
    "print(\"거스름돈:\", remain,\"원\", \"은행수수료:\",up_comTotal,\"원\")\n",
    "print(\"★★★★★★★★★★★★★★★★★★★★\")\n"
   ]
  }
 ],
 "metadata": {
  "kernelspec": {
   "display_name": "Python 3 (ipykernel)",
   "language": "python",
   "name": "python3"
  },
  "language_info": {
   "codemirror_mode": {
    "name": "ipython",
    "version": 3
   },
   "file_extension": ".py",
   "mimetype": "text/x-python",
   "name": "python",
   "nbconvert_exporter": "python",
   "pygments_lexer": "ipython3",
   "version": "3.8.8rc1"
  }
 },
 "nbformat": 4,
 "nbformat_minor": 5
}
