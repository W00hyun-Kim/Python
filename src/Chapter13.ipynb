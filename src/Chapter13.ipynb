{
 "cells": [
  {
   "cell_type": "code",
   "execution_count": null,
   "id": "94c644fc",
   "metadata": {},
   "outputs": [],
   "source": [
    "#파이썬 클래스\n",
    "#구조체(struct)와 클래스(class)\n",
    "#일반적인 프로그래밍 언어에서 많이 사용하는 구조체\n",
    "#아래는 엘리베이터의 속성을 표현\n",
    "struct  elevator {\n",
    "    int limt_up_floor;\n",
    "    int down_floor;\n",
    "    int floor;\n",
    "    char help[100];\n",
    "}"
   ]
  },
  {
   "cell_type": "code",
   "execution_count": null,
   "id": "7968df9f",
   "metadata": {},
   "outputs": [],
   "source": [
    "#구조체와 클래스\n",
    "#class elevator를 이용한다면 프로그램은 쉽게 구현됨\n",
    "\n",
    "void main() {\n",
    "    class *myclass elevator;\n",
    "    if(올라가라는 전기 신호가 왔다면)\n",
    "        myclass ->up();\n",
    "    else if(내려가라는 전기신호가 왔다면)\n",
    "        myclass ->down();\n",
    "}"
   ]
  },
  {
   "cell_type": "code",
   "execution_count": 11,
   "id": "3ca7b541",
   "metadata": {},
   "outputs": [
    {
     "name": "stdout",
     "output_type": "stream",
     "text": [
      "2층입니다.\n",
      "3층입니다.\n",
      "4층입니다.\n",
      "5층입니다.\n",
      "6층입니다.\n",
      "7층입니다.\n",
      "8층입니다.\n",
      "9층입니다.\n",
      "10층입니다.\n",
      "11층입니다.\n",
      "12층입니다.\n",
      "13층입니다.\n",
      "14층입니다.\n",
      "15층입니다.\n",
      "최상층입니다.\n",
      "최상층입니다.\n",
      "최상층입니다.\n",
      "최상층입니다.\n",
      "최상층입니다.\n",
      "최상층입니다.\n",
      "14층입니다.\n",
      "13층입니다.\n",
      "12층입니다.\n",
      "11층입니다.\n",
      "10층입니다.\n",
      "9층입니다.\n",
      "8층입니다.\n",
      "7층입니다.\n",
      "6층입니다.\n",
      "5층입니다.\n",
      "4층입니다.\n",
      "3층입니다.\n",
      "2층입니다.\n",
      "1층입니다.\n",
      "0층입니다.\n",
      "최하층입니다.\n",
      "최하층입니다.\n",
      "최하층입니다.\n",
      "최하층입니다.\n",
      "최하층입니다.\n"
     ]
    }
   ],
   "source": [
    "#파이썬 클래스 \n",
    "#elevator 클래스를 사용하기 위해서 객체 생성\n",
    "myclass = elevator(1,15,0,\"\")  #(현재1층, 최저0층, 최고15층)\n",
    "for i in range(20):           #20번 up()을 실행\n",
    "    myclass.up()\n",
    "for i in range(20):\n",
    "    myclass.down()"
   ]
  },
  {
   "cell_type": "code",
   "execution_count": 10,
   "id": "fe4ce838",
   "metadata": {},
   "outputs": [],
   "source": [
    "class elevator:   #엘리베이터 클래스 생성\n",
    "    #데이터를 입력하는 함수\n",
    "    def __init__(self,floor,limit_up_floor,limit_down_floor,msg):\n",
    "        self.floor = floor\n",
    "        self.limit_up_floor =limit_up_floor\n",
    "        self.limit_down_floor=limit_down_floor\n",
    "        self.msg = msg\n",
    "    #계속 한층씩 올라가는 함수\n",
    "    def up(self):  #각 함수에 첫 글자에는 self를 기입한다.\n",
    "        if self.floor == self.limit_up_floor:\n",
    "            self.msg =\"최상층입니다.\"\n",
    "        else :\n",
    "            self.floor += 1     #클래스 내 사용 변수들은 self.floor형태의 값 가짐\n",
    "            self.msg = str(self.floor)+\"층입니다.\"\n",
    "        print(self.msg)\n",
    "    #계속 한층씩 내려가는 함수\n",
    "    def down(self) :\n",
    "        if self.floor == self.limit_down_floor:\n",
    "            self.msg = \"최하층입니다.\"\n",
    "        else :\n",
    "            self.floor -=1\n",
    "            self.msg = str(self.floor)+\"층입니다.\"\n",
    "        print(self.msg)"
   ]
  },
  {
   "cell_type": "code",
   "execution_count": 13,
   "id": "b8221ee0",
   "metadata": {},
   "outputs": [
    {
     "name": "stdout",
     "output_type": "stream",
     "text": [
      "myclass->2층입니다.\n",
      "yourclass->6층입니다.\n",
      "myclass->3층입니다.\n",
      "yourclass->7층입니다.\n",
      "myclass->4층입니다.\n",
      "yourclass->8층입니다.\n",
      "myclass->5층입니다.\n",
      "yourclass->9층입니다.\n",
      "myclass->6층입니다.\n",
      "yourclass->10층입니다.\n",
      "myclass->7층입니다.\n",
      "yourclass->최상층입니다.\n",
      "myclass->8층입니다.\n",
      "yourclass->최상층입니다.\n",
      "myclass->9층입니다.\n",
      "yourclass->최상층입니다.\n",
      "myclass->10층입니다.\n",
      "yourclass->최상층입니다.\n",
      "myclass->11층입니다.\n",
      "yourclass->최상층입니다.\n",
      "myclass->12층입니다.\n",
      "yourclass->최상층입니다.\n",
      "myclass->13층입니다.\n",
      "yourclass->최상층입니다.\n",
      "myclass->14층입니다.\n",
      "yourclass->최상층입니다.\n",
      "myclass->15층입니다.\n",
      "yourclass->최상층입니다.\n",
      "myclass->최상층입니다.\n",
      "yourclass->최상층입니다.\n",
      "myclass->최상층입니다.\n",
      "yourclass->최상층입니다.\n",
      "myclass->최상층입니다.\n",
      "yourclass->최상층입니다.\n",
      "myclass->최상층입니다.\n",
      "yourclass->최상층입니다.\n",
      "myclass->최상층입니다.\n",
      "yourclass->최상층입니다.\n",
      "myclass->최상층입니다.\n",
      "yourclass->최상층입니다.\n",
      "myclass->14층입니다.\n",
      "yourclass->9층입니다.\n",
      "myclass->13층입니다.\n",
      "yourclass->8층입니다.\n",
      "myclass->12층입니다.\n",
      "yourclass->7층입니다.\n",
      "myclass->11층입니다.\n",
      "yourclass->6층입니다.\n",
      "myclass->10층입니다.\n",
      "yourclass->5층입니다.\n",
      "myclass->9층입니다.\n",
      "yourclass->4층입니다.\n",
      "myclass->8층입니다.\n",
      "yourclass->3층입니다.\n",
      "myclass->7층입니다.\n",
      "yourclass->2층입니다.\n",
      "myclass->6층입니다.\n",
      "yourclass->1층입니다.\n",
      "myclass->5층입니다.\n",
      "yourclass->0층입니다.\n",
      "myclass->4층입니다.\n",
      "yourclass->-1층입니다.\n",
      "myclass->3층입니다.\n",
      "yourclass->최하층입니다.\n",
      "myclass->2층입니다.\n",
      "yourclass->최하층입니다.\n",
      "myclass->1층입니다.\n",
      "yourclass->최하층입니다.\n",
      "myclass->0층입니다.\n",
      "yourclass->최하층입니다.\n",
      "myclass->최하층입니다.\n",
      "yourclass->최하층입니다.\n",
      "myclass->최하층입니다.\n",
      "yourclass->최하층입니다.\n",
      "myclass->최하층입니다.\n",
      "yourclass->최하층입니다.\n",
      "myclass->최하층입니다.\n",
      "yourclass->최하층입니다.\n",
      "myclass->최하층입니다.\n",
      "yourclass->최하층입니다.\n"
     ]
    }
   ],
   "source": [
    "#self\n",
    "\n",
    "myclass = elevator(1,15,0,\"\")     #현재층1층,최저0층,최고15층\n",
    "yourclass = elevator(5,10,-1,\"\")  #현재1층,최저-1층,최고10층으로 클래스 생성\n",
    "\n",
    "for i in range(20):    #20번 up()을 실행\n",
    "    print(\"myclass->\",end=\"\")\n",
    "    myclass.up()\n",
    "    print(\"yourclass->\",end=\"\")\n",
    "    yourclass.up()\n",
    "    \n",
    "for i in range(20):     #20번 down()을 실행\n",
    "    print(\"myclass->\",end=\"\")\n",
    "    myclass.down()\n",
    "    print(\"yourclass->\",end=\"\")\n",
    "    yourclass.down()"
   ]
  },
  {
   "cell_type": "code",
   "execution_count": null,
   "id": "be9f34f4",
   "metadata": {},
   "outputs": [],
   "source": [
    "#생성자\n",
    "#클래스를 처음 생성하여 인스턴스 만들 때 호출되는 함수\n",
    "#호출하는 쪽에서는 클래스명으로 부르고, 클래스에서는 __init__으로 정의\n",
    "#클래스 선언 부분\n",
    "class elevator:\n",
    "    def __init__(self,floor,limit_up_floor,limit_down_floor,msg) : #이게 생성자\n",
    "        self.floor = floor\n",
    "        self.limit_up_floor =limit_up_floor\n",
    "        self.limit_down_floor =limit_down_floor\n",
    "        self.msg = msg"
   ]
  },
  {
   "cell_type": "code",
   "execution_count": null,
   "id": "d7ff1807",
   "metadata": {},
   "outputs": [],
   "source": [
    "#class 호출 부분\n",
    "#해당 부분 부를 때 elevator(즉, 클래스 이름)로 부른다.\n",
    "myclass = elevator(1,15,0,\"\")     #현재층1층,최저0층,최고15층\n",
    "yourclass = elevator(5,10,-1,\"\")  #현재1층,최저-1층,최고10층으로 클래스 생성"
   ]
  },
  {
   "cell_type": "code",
   "execution_count": 14,
   "id": "6a334fda",
   "metadata": {},
   "outputs": [],
   "source": [
    "#상속\n",
    "#상속된 클래스 정의 예시\n",
    "\n",
    "class s_elevator(elevator):      #s_elevator라는 애가 elevator를 상속받았다.\n",
    "    def __init__(self):          #super의 생성자 그대로 사용하였고, \n",
    "        super().__init__(1,15,0,\"\")\n",
    "    def up(self):                #메서드 역시도 따로 변경된 것없이 그대로 super꺼임\n",
    "        super().up()\n",
    "    def down(self):\n",
    "        super().down()"
   ]
  },
  {
   "cell_type": "code",
   "execution_count": 16,
   "id": "2c7e4207",
   "metadata": {},
   "outputs": [
    {
     "name": "stdout",
     "output_type": "stream",
     "text": [
      "2층입니다.\n",
      "1층입니다.\n",
      "2층입니다.\n",
      "1층입니다.\n",
      "2층입니다.\n",
      "1층입니다.\n",
      "2층입니다.\n",
      "1층입니다.\n",
      "2층입니다.\n",
      "1층입니다.\n",
      "2층입니다.\n",
      "1층입니다.\n",
      "2층입니다.\n",
      "1층입니다.\n",
      "2층입니다.\n",
      "1층입니다.\n",
      "2층입니다.\n",
      "1층입니다.\n",
      "2층입니다.\n",
      "1층입니다.\n",
      "2층입니다.\n",
      "1층입니다.\n",
      "2층입니다.\n",
      "1층입니다.\n",
      "2층입니다.\n",
      "1층입니다.\n",
      "2층입니다.\n",
      "1층입니다.\n",
      "2층입니다.\n",
      "1층입니다.\n",
      "2층입니다.\n",
      "1층입니다.\n",
      "2층입니다.\n",
      "1층입니다.\n",
      "2층입니다.\n",
      "1층입니다.\n",
      "2층입니다.\n",
      "1층입니다.\n",
      "2층입니다.\n",
      "1층입니다.\n"
     ]
    }
   ],
   "source": [
    "#상속된 클래스 호출과 기존 클래스 호출\n",
    "#myclass = elevator(1,15,0,\"\")\n",
    "myclass = s_elevator()\n",
    "\n",
    "for i in range(20) :     #20번 up()을 실행\n",
    "    myclass.up()\n",
    "    myclass.down()"
   ]
  },
  {
   "cell_type": "code",
   "execution_count": 18,
   "id": "07ab6142",
   "metadata": {},
   "outputs": [
    {
     "name": "stdout",
     "output_type": "stream",
     "text": [
      "3125\n"
     ]
    }
   ],
   "source": [
    "#getter, setter 정보은닉\n",
    "#해당 클래스를 호출하는 다른 여러 개의 클래스에서 예상치 못한 접근으로\n",
    "#예측할 수 없는 상황을 막기 위해 입출력을 만들어서 해당 입출력부분으로 \n",
    "#클래스 변수에 접근할 수 있도록 하는 것\n",
    "\n",
    "#getter, setter를 통한 접근 예제로 a**b 거듭제곱을 구하는 예제\n",
    "\n",
    "class multibox:\n",
    "    def __init__(self,multi) :\n",
    "        self.multi = multi\n",
    "    def getnumber(self):          #getnumber는 self값으로 들어온 값을 거듭제곱으로반환\n",
    "        return self.num**self.multi\n",
    "    def setnumber(self,num):     #getnumber를 쓰기 위해 미리 set number를 해야함\n",
    "        self.num = num           #setnumber의 인자는 밑수가 된다.\n",
    "\n",
    "m = multibox(5)\n",
    "m.setnumber(5)      #5의 5승\n",
    "print(m.getnumber())\n",
    "    "
   ]
  },
  {
   "cell_type": "code",
   "execution_count": 21,
   "id": "6dd9786e",
   "metadata": {},
   "outputs": [
    {
     "name": "stdout",
     "output_type": "stream",
     "text": [
      "3125\n"
     ]
    }
   ],
   "source": [
    "#데코레이터(@)를 이용하여 getter,setter 정의하기\n",
    "\n",
    "class multibox:\n",
    "    def __init__(self,multi) :\n",
    "        self.multi = multi\n",
    "    @property                     #데코레이터로 선언           \n",
    "    def number(self):            #getnumber는 self값으로 들어온 값을 거듭제곱으로반환\n",
    "        return self.num**self.multi\n",
    "    @number.setter\n",
    "    def number(self,num):     #getnumber를 쓰기 위해 미리 set number를 해야함\n",
    "        self.num = num           #setnumber의 인자는 밑수가 된다.\n",
    "\n",
    "m = multibox(5)\n",
    "m.number=5      #5의 5승\n",
    "print(m.number)"
   ]
  },
  {
   "cell_type": "code",
   "execution_count": 24,
   "id": "91ea0789",
   "metadata": {},
   "outputs": [
    {
     "name": "stdout",
     "output_type": "stream",
     "text": [
      "클래스 참조 횟수는 2 회 입니다.\n"
     ]
    }
   ],
   "source": [
    "# 메서드\n",
    "\n",
    "class myclass:\n",
    "    cnt = 0                   #self가 없는 myclass에서 사용되는 내부 static 변수\n",
    "    def __init__(self):\n",
    "        myclass.cnt += 1      #myclass의 static 변수\n",
    "    @classmethod              #클래스 메서드 선언\n",
    "    def refcount(cls):        #self가 아니라 cls로 정의 \n",
    "        print(\"클래스 참조 횟수는\",cls.cnt,\"회 입니다.\")\n",
    "\n",
    "a = myclass()     #a,b 총 2번 클래스 참조를 했음\n",
    "b = myclass()\n",
    "myclass.refcount()"
   ]
  },
  {
   "cell_type": "code",
   "execution_count": 25,
   "id": "3ff11af9",
   "metadata": {},
   "outputs": [
    {
     "name": "stdout",
     "output_type": "stream",
     "text": [
      "이 클래스는 아무런 일도 하지 않는다.\n",
      "이 클래스는 아무런 일도 하지 않는다.\n"
     ]
    }
   ],
   "source": [
    "#정적 메서드\n",
    "#생성되는 클래스와는 별개로 하나의 역할을 수행하는 메서드\n",
    "# @staticmethod\n",
    "#클래스 생성과 상관 없으므로 __init__를 수행하지 않아도됨\n",
    "# self나 cls를 인수로 받지 않음\n",
    "\n",
    "class myclass:\n",
    "    cnt =0\n",
    "    def __init__(self):\n",
    "        myclass.cnt+=1\n",
    "    @staticmethod\n",
    "    def helf() :\n",
    "        print(\"이 클래스는 아무런 일도 하지 않는다.\")\n",
    "\n",
    "myclass.helf()\n",
    "a=myclass()\n",
    "myclass.helf()\n"
   ]
  },
  {
   "cell_type": "code",
   "execution_count": 26,
   "id": "19d0efa1",
   "metadata": {},
   "outputs": [
    {
     "name": "stdout",
     "output_type": "stream",
     "text": [
      "defabc\n"
     ]
    }
   ],
   "source": [
    "#연산자 메서드\n",
    "\n",
    "class mystr:\n",
    "    def __init__(self,s):\n",
    "        self.s = s\n",
    "    def __add__(self,other):      #클래스 간 + 연산자를 정의함\n",
    "        return other.s + self.s  #뒤에꺼 먼저 더함\n",
    "\n",
    "a = mystr(\"abc\")\n",
    "b = mystr(\"def\")\n",
    "print(a+b)"
   ]
  },
  {
   "cell_type": "code",
   "execution_count": 27,
   "id": "20346343",
   "metadata": {},
   "outputs": [
    {
     "name": "stdout",
     "output_type": "stream",
     "text": [
      "9.99999999999998\n"
     ]
    }
   ],
   "source": [
    "#유틸리티 클래스\n",
    "#decimal \n",
    "\n",
    "sum = 0\n",
    "for i in range(100):\n",
    "    sum+=0.1           #2진수로는 0.1을 완벽히 표현할 수가 없음\n",
    "                       #0.1을 100번 더하면 10이지만 9.9999999....가 나옴\n",
    "print(sum)"
   ]
  },
  {
   "cell_type": "code",
   "execution_count": 28,
   "id": "a1545a79",
   "metadata": {},
   "outputs": [
    {
     "name": "stdout",
     "output_type": "stream",
     "text": [
      "0.1 => 9.99999999999998\n",
      "0.1000000000000000055511151231257827021181583404541015625 => 10.00000000000000055511151230\n",
      "0.1 => 10.0\n"
     ]
    }
   ],
   "source": [
    "#Decimal 클래스는 문자형을 숫자형(정수형)으로 바꾸는 데 성공\n",
    "\n",
    "from decimal import Decimal\n",
    "\n",
    "a_sum=0; b_sum=0; c_sum=0\n",
    "\n",
    "a=0.1\n",
    "b=Decimal(a)\n",
    "c=Decimal(\"0.1\")  #문자형을 숫자형(정수형)으로 바꿀 수 있음\n",
    "\n",
    "for i in range(100):\n",
    "    a_sum +=a\n",
    "    b_sum +=b\n",
    "    c_sum +=c\n",
    "\n",
    "print(a,\"=>\",a_sum)\n",
    "print(b,\"=>\",b_sum)\n",
    "print(c,\"=>\",c_sum)"
   ]
  },
  {
   "cell_type": "code",
   "execution_count": 29,
   "id": "ded3a931",
   "metadata": {},
   "outputs": [
    {
     "name": "stdout",
     "output_type": "stream",
     "text": [
      "2/3 + 1/2 = 7/6\n",
      "2/3 * 1/2 = 1/3\n",
      "2/3 + 1.5 = 2.1666666666666665\n"
     ]
    }
   ],
   "source": [
    "#Fraction 클래스\n",
    "#분수를 나타내주고 분수계산이 가능한 클래스\n",
    "\n",
    "from fractions import *\n",
    "\n",
    "a = Fraction(2,3)  #3분의 2\n",
    "b = Fraction(5,10) #10분의 5로 약분되어 1/2\n",
    "\n",
    "print(a,\"+\",b,\"=\", a+b)\n",
    "print(a,\"*\",b,\"=\", a*b)\n",
    "print(a,\"+\",1.5,\"=\", a+1.5)"
   ]
  },
  {
   "cell_type": "code",
   "execution_count": null,
   "id": "a57a0fd4",
   "metadata": {},
   "outputs": [],
   "source": []
  }
 ],
 "metadata": {
  "kernelspec": {
   "display_name": "Python 3 (ipykernel)",
   "language": "python",
   "name": "python3"
  },
  "language_info": {
   "codemirror_mode": {
    "name": "ipython",
    "version": 3
   },
   "file_extension": ".py",
   "mimetype": "text/x-python",
   "name": "python",
   "nbconvert_exporter": "python",
   "pygments_lexer": "ipython3",
   "version": "3.8.8rc1"
  }
 },
 "nbformat": 4,
 "nbformat_minor": 5
}
